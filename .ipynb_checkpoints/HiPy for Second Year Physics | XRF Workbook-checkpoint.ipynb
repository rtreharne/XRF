{
 "cells": [
  {
   "cell_type": "code",
   "execution_count": 2,
   "metadata": {},
   "outputs": [],
   "source": [
    "from IPython.display import HTML"
   ]
  },
  {
   "cell_type": "markdown",
   "metadata": {},
   "source": [
    "This Jupyter Notebook is a Resource produced by HiPy for Physics students at the University of Liverpool. </p>\n",
    "<img src=\"https://img.evbuc.com/https%3A%2F%2Fcdn.evbuc.com%2Fimages%2F72840595%2F64322285113%2F1%2Foriginal.20190914-061706?w=800&auto=compress&rect=0%2C0%2C860%2C430&s=9df0b24f82d668962e4f32d511ebb7ee\"\n",
    "style=\"width: 500px\">\n",
    "\n",
    "## Need Python Support? Come and join the Hive.\n",
    "\n",
    "Register for free at the dates below:\n",
    "\n",
    "  + [Wed 25 Sep 2019](https://www.eventbrite.com/e/hipy-tickets-48282771068)\n",
    "  + [Wed 30 Oct 2019](https://www.eventbrite.com/e/hipy-tickets-48282771068)\n",
    "  + [Wed 27 Nov 2019](https://www.eventbrite.com/e/hipy-tickets-48282771068)\n",
    "  + [Wed 29 Jan 2020](https://www.eventbrite.com/e/hipy-tickets-48282771068)\n",
    "  + [Wed 26 Feb 2020](https://www.eventbrite.com/e/hipy-tickets-48282771068)\n",
    "  + [Wed 25 Mar 2020](https://www.eventbrite.com/e/hipy-tickets-48282771068)\n",
    "  "
   ]
  },
  {
   "cell_type": "markdown",
   "metadata": {},
   "source": [
    "# HiPy for Physicists | X-Ray Fluorescence Data Analysis Workshop\n",
    "University of Liverpool 2019/20\n",
    "\n",
    "R. Treharne"
   ]
  },
  {
   "cell_type": "markdown",
   "metadata": {},
   "source": [
    "## Step 1: Reading data from an Excel spreadsheet\n",
    "\n",
    "All the data files you need for this exercise are available, for free and forever, at [github.com/rtreharne/XRF](https://github.com/rtreharne/XRF)\n",
    "\n",
    "I'm going to use the amazing Pandas module to read and handle my Excel data. For a more gentle introduction to Pandas, NumPy and importing files checkout the following [HiPy](http://www.hipy.uk) resources:\n",
    "\n",
    "  + [Importing Data From Files](https://github.com/HiPyLiv/HiPyProject/blob/master/%5BSOURCING%5D%20Importing%20Data%20From%20Files/Importing%20Files%20From%20Files.ipynb)\n",
    "  + [NumPy and Pandas](https://github.com/HiPyLiv/HiPyProject/blob/master/%5BBASICS%5D%20Numpy%20and%20Pandas/Numpy%20and%20Pandas.ipynb)\n",
    "  \n",
    "Make sure your excel file is in the same directory that you're running your notebook from."
   ]
  },
  {
   "cell_type": "code",
   "execution_count": 3,
   "metadata": {},
   "outputs": [
    {
     "data": {
      "text/html": [
       "<iframe width=\"560\" height=\"315\" src=\"https://www.youtube.com/embed/Qs_16PFiTbc\" frameborder=\"0\" allow=\"accelerometer; autoplay; encrypted-media; gyroscope; picture-in-picture\" allowfullscreen></iframe>"
      ],
      "text/plain": [
       "<IPython.core.display.HTML object>"
      ]
     },
     "execution_count": 3,
     "metadata": {},
     "output_type": "execute_result"
    }
   ],
   "source": [
    "# Step 1 video\n",
    "HTML('<iframe width=\"560\" height=\"315\" src=\"https://www.youtube.com/embed/Qs_16PFiTbc\" frameborder=\"0\" allow=\"accelerometer; autoplay; encrypted-media; gyroscope; picture-in-picture\" allowfullscreen></iframe>')"
   ]
  },
  {
   "cell_type": "code",
   "execution_count": 4,
   "metadata": {},
   "outputs": [],
   "source": [
    "# Import the modules you're going to need\n",
    "# Pandas, NumPy and Matplotlib are classics!\n",
    "import pandas as pd\n",
    "import numpy as np\n",
    "import matplotlib.pyplot as plt"
   ]
  },
  {
   "cell_type": "code",
   "execution_count": 5,
   "metadata": {},
   "outputs": [],
   "source": [
    "# Read your excel file. \n",
    "# Pandas, by default, tries to assign the first row \n",
    "# of a file as column names of the data frame. \n",
    "# You don't want this so use 'header=None'\n",
    "# Also by default, Pandas will read the data in the first\n",
    "# sheet of your spreadsheet. Specify the sheet explicitly\n",
    "# using 'sheet_name'\n",
    "\n",
    "df = pd.read_excel(\"xrf_test_data.xlsx\", header=None, sheet_name=\"Copper\")"
   ]
  },
  {
   "cell_type": "code",
   "execution_count": 6,
   "metadata": {},
   "outputs": [],
   "source": [
    "# To view the data in your notebook simply uncomment and run\n",
    "# the line below.\n",
    "\n",
    "#df"
   ]
  },
  {
   "cell_type": "code",
   "execution_count": 7,
   "metadata": {},
   "outputs": [],
   "source": [
    "# You can see that the data frame containes two sets of XRF data,\n",
    "# Both for copper but at different Gains.\n",
    "# You want to get the x and y data out for each scan right?\n",
    "# You can use Pandas' '.iloc' method to isolate the data as follows.\n",
    "\n",
    "cu_1 = df.iloc[10:, :2]\n",
    "cu_2 = df.iloc[10:, 3:]\n",
    "\n",
    "# This will create two new subset dataframes f, cu_1 and cu_2,from df\n",
    "# that contain x and y data for each of the scans respectively."
   ]
  },
  {
   "cell_type": "markdown",
   "metadata": {},
   "source": [
    "## Step 2: Plotting\n",
    "\n",
    "There are a zillion ways to generate data plots using Python. I'm going to stick the using the classic Matplotlib module. For more resources on visualisation in Python check out the following HiPy notebooks:\n",
    "\n",
    "  + [A deeper look at Matplotlib](https://github.com/HiPyLiv/HiPyProject/tree/master/%5BVISUALISATION%5D%20A%20Deeper%20Look%20Into%20Matplotlib)\n",
    "  + [Pandas build in Vis](https://github.com/HiPyLiv/HiPyProject/tree/master/%5BVISUALISATION%5D%20Panda's%20Built%20In%20Vis)\n",
    "  + [Statistical plottPng With Seaborn](https://github.com/HiPyLiv/HiPyProject/tree/master/%5BVISUALISATION%5D%20Statistical%20Plotting%20With%20Seaborn)\n",
    "  + [Interactive Plots With Bokeh](https://github.com/HiPyLiv/HiPyProject/tree/master/%5BVISUALISATION%5D%20Interactive%20Plots%20With%20Bokeh)\n",
    "  \n",
    "Also, you can access plenty of documentation and examples for Matplotlib at [matplotlib.org](https://matplotlib.org/)"
   ]
  },
  {
   "cell_type": "code",
   "execution_count": 8,
   "metadata": {},
   "outputs": [
    {
     "data": {
      "text/html": [
       "<iframe width=\"560\" height=\"315\" src=\"https://www.youtube.com/embed/UvCh0_rMF4w\" frameborder=\"0\" allow=\"accelerometer; autoplay; encrypted-media; gyroscope; picture-in-picture\" allowfullscreen></iframe>"
      ],
      "text/plain": [
       "<IPython.core.display.HTML object>"
      ]
     },
     "execution_count": 8,
     "metadata": {},
     "output_type": "execute_result"
    }
   ],
   "source": [
    "# Step 2 video\n",
    "HTML('<iframe width=\"560\" height=\"315\" src=\"https://www.youtube.com/embed/UvCh0_rMF4w\" frameborder=\"0\" allow=\"accelerometer; autoplay; encrypted-media; gyroscope; picture-in-picture\" allowfullscreen></iframe>')"
   ]
  },
  {
   "cell_type": "code",
   "execution_count": 9,
   "metadata": {},
   "outputs": [
    {
     "data": {
      "image/png": "[encoded data removed]",
      "text/plain": [
       "<matplotlib.figure.Figure at 0x7f28b741ee10>"
      ]
     },
     "metadata": {},
     "output_type": "display_data"
    }
   ],
   "source": [
    "# First lets's format the x and y column data in\n",
    "# our dataframes into seperate lists. This will \n",
    "# make plotting much easier. The 'tolist()' Pandas \n",
    "# method comes in handy here.\n",
    "\n",
    "# Get the x/y data for Copper, gain=2\n",
    "x1 = np.array(cu_1[0].tolist())\n",
    "y1 = np.array(cu_1[1].tolist())\n",
    "\n",
    "# Get the x/y data for Copper, gain=4\n",
    "x2 = cu_2[3].tolist()\n",
    "y2 = cu_2[4].tolist()\n",
    "\n",
    "# Create a matplotlib figure and axis\n",
    "fig, ax = plt.subplots()\n",
    "\n",
    "# Plot your data to your axis.\n",
    "# Don't forget to label your data.\n",
    "ax.plot(x1, y1, label='Gain = 2')\n",
    "ax.plot(x2, y2, label = 'Gain = 4')\n",
    "\n",
    "# Adjust your x-axis accordingly.\n",
    "ax.set_xlim(500, 2500)\n",
    "\n",
    "# Set your axis labels and figure title.\n",
    "ax.set_xlabel('Channel')\n",
    "ax.set_ylabel('Intensity')\n",
    "ax.set_title('XRF scans for Copper')\n",
    "\n",
    "# Add the legend\n",
    "ax.legend()\n",
    "\n",
    "# If you need to save your plot then uncomment\n",
    "# and use the line below.\n",
    "# fig.savefig(\"Copper.eps\", format=\"eps\")\n",
    "\n",
    "# You must use the line below to display the figure object.\n",
    "plt.show()"
   ]
  },
  {
   "cell_type": "markdown",
   "metadata": {},
   "source": [
    "## Step 3a: Fitting\n",
    "\n",
    "We need to determine the peak locations (with respect to channel).\n",
    "\n",
    "### Why?\n",
    "\n",
    "The large and small peak locations in a given spectra correspond to K_alpha and K_beta lines of the material respectively (which we can lookup). If we can determine the channel locations of peaks for all of the materials in our dataset, compare them to published K values, and generate a plot of Channel vs Energy we can callibrate our spectrometer. Then we can scan any unknown material and calculate K_alpha, K_beta for any 'unknonwn' material in units of energy (keV).\n",
    "\n",
    "### How?\n",
    "\n",
    "We can use a Gaussian curve shape to describe each of the peaks:\n",
    "\n",
    "$$G(A, x_0, \\sigma) = \\frac{A}{\\sqrt\\pi\\exp\\frac{(x-x_0)^2}{2\\sigma^2}}$$\n",
    "\n",
    "Where $A$, $x_0$ and $\\sigma$ are the amplitude, mean and standard deviation of the distribution resptively."
   ]
  },
  {
   "cell_type": "code",
   "execution_count": 27,
   "metadata": {},
   "outputs": [
    {
     "data": {
      "text/html": [
       "<iframe width=\"560\" height=\"315\" src=\"https://www.youtube.com/embed/lSiQ-seTkVU\" frameborder=\"0\" allow=\"accelerometer; autoplay; encrypted-media; gyroscope; picture-in-picture\" allowfullscreen></iframe>"
      ],
      "text/plain": [
       "<IPython.core.display.HTML object>"
      ]
     },
     "execution_count": 27,
     "metadata": {},
     "output_type": "execute_result"
    }
   ],
   "source": [
    "# Step 3 video\n",
    "HTML('<iframe width=\"560\" height=\"315\" src=\"https://www.youtube.com/embed/lSiQ-seTkVU\" frameborder=\"0\" allow=\"accelerometer; autoplay; encrypted-media; gyroscope; picture-in-picture\" allowfullscreen></iframe>')"
   ]
  },
  {
   "cell_type": "code",
   "execution_count": 10,
   "metadata": {},
   "outputs": [],
   "source": [
    "# Lets write a function that returns the Gaussian above\n",
    "\n",
    "def gaussian(x, *params):\n",
    "    \"\"\"\n",
    "    x must be an array\n",
    "    params must be an array of A, x0 and sigma values\n",
    "    returns an array same length as x\n",
    "    \"\"\"\n",
    "    A = params[0]\n",
    "    x0 = params[1]\n",
    "    sigma = params[2]\n",
    "    \n",
    "    return A/(np.sqrt(np.pi)*np.exp((x-x0)**2/(2*sigma**2)))\n",
    "    "
   ]
  },
  {
   "cell_type": "code",
   "execution_count": 11,
   "metadata": {},
   "outputs": [
    {
     "data": {
      "image/png": "[encoded data removed]",
      "text/plain": [
       "<matplotlib.figure.Figure at 0x7f28b4d49588>"
      ]
     },
     "metadata": {},
     "output_type": "display_data"
    }
   ],
   "source": [
    "# Test out the function above by giving it an array of x values\n",
    "x = np.linspace(500, 2500, 200)\n",
    "y = gaussian(x, 1000, 1000, 100)\n",
    "\n",
    "# plot x and y\n",
    "# I'm not goint to bother creating matplotlib fig object for this\n",
    "plt.scatter(x, y)\n",
    "plt.show()"
   ]
  },
  {
   "cell_type": "markdown",
   "metadata": {},
   "source": [
    "Let's look at our XRF scan for copper again (see step 2). For a gain = 2 let's see if we can fit the kalpha peak with a single gaussian.\n",
    "\n",
    "Read the documentation on the scipy.optimize.curve_fit [here](https://docs.scipy.org/doc/scipy/reference/generated/scipy.optimize.curve_fit.html)"
   ]
  },
  {
   "cell_type": "code",
   "execution_count": 15,
   "metadata": {},
   "outputs": [
    {
     "data": {
      "text/plain": [
       "array([  758.63811223,  1722.9671822 ,    43.29766248])"
      ]
     },
     "execution_count": 15,
     "metadata": {},
     "output_type": "execute_result"
    }
   ],
   "source": [
    "import warnings; warnings.simplefilter('ignore')\n",
    "\n",
    "# Let's guess the A, x0 and sigma values for this peak. It doesn't matter if we're completely wrong.\n",
    "\n",
    "guess1 = [500, 1700, 50]\n",
    "\n",
    "# I'm going to use the scipy.optimize.curve_fit method of scipy's optimise package.\n",
    "# This method will return two lists:\n",
    "#   + The optimized gaussian parameters for the fit \n",
    "#   + The covariance values of the optimized parameter values (don't worry too much about this)\n",
    "\n",
    "# Don't forget to import the necessay module\n",
    "from scipy import optimize\n",
    "\n",
    "popt, pcov = optimize.curve_fit(gaussian, x1, y1, p0=guess1)\n",
    "\n",
    "# What does popt look like?\n",
    "# Does the value for x0 look about right?\n",
    "popt"
   ]
  },
  {
   "cell_type": "markdown",
   "metadata": {},
   "source": [
    "Let's check how well this fit looks by ploting our data as a scatter plot and our fit as a line on the same axis."
   ]
  },
  {
   "cell_type": "code",
   "execution_count": 16,
   "metadata": {},
   "outputs": [
    {
     "data": {
      "image/png": "[encoded data removed]",
      "text/plain": [
       "<matplotlib.figure.Figure at 0x7f28af6b97f0>"
      ]
     },
     "metadata": {},
     "output_type": "display_data"
    }
   ],
   "source": [
    "# create figure and axis\n",
    "fig, ax = plt.subplots()\n",
    "\n",
    "# plot the data as a scatter plot\n",
    "ax.scatter(x1, y1, s=1, label='data', color='r')\n",
    "\n",
    "# Let's zoom in a bit by truncating our x-axis\n",
    "ax.set_xlim(1500, 2250)\n",
    "\n",
    "# Add our fitted gaussian to the plot\n",
    "ax.plot(x1, gaussian(x1, *popt), label='fit')\n",
    "\n",
    "# Don't forget to set your axis labels!!!! I will find you if you don't.\n",
    "\n",
    "ax.set_xlabel('Channel')\n",
    "ax.set_ylabel('Intensity')\n",
    "\n",
    "ax.legend()\n",
    "\n",
    "plt.show()"
   ]
  },
  {
   "cell_type": "markdown",
   "metadata": {},
   "source": [
    "OK, this looks pretty good. I would certainly trust the fitted value of $1720\\pm42$ for $x_0$ of the kalpha peak. But what about the kbeta peak? Can I fit this the same way? Let's try by feeding in a new guess, this time for our kbeta peak."
   ]
  },
  {
   "cell_type": "code",
   "execution_count": 17,
   "metadata": {},
   "outputs": [
    {
     "data": {
      "text/plain": [
       "array([  758.63811223,  1722.9671822 ,    43.29766248])"
      ]
     },
     "execution_count": 17,
     "metadata": {},
     "output_type": "execute_result"
    }
   ],
   "source": [
    "guess2 = [250, 1900, 50]\n",
    "\n",
    "popt, pcov = optimize.curve_fit(gaussian, x1, y1, p0=guess1)\n",
    "\n",
    "# What does popt look like?\n",
    "# Does the value for x0 look about right?\n",
    "popt"
   ]
  },
  {
   "cell_type": "markdown",
   "metadata": {},
   "source": [
    "Uh Oh. It's given us the same fitted values for $A$, $x_0$ and $\\sigma$ as when fitting the kalpha peak. Because the kalpha peak dominates fitting with a single gaussian will always return the popt for the kalpha."
   ]
  },
  {
   "cell_type": "markdown",
   "metadata": {},
   "source": [
    "## Step 3b: Fitting two Gaussians simultaneously\n",
    "\n",
    "Let's extend our original \"gaussian\" function above creating a function that returns distribution of TWO summed gaussian lineshapes. Then, let's feed it some parameter values for A, x0 and sigma for the respective gaussians and use this to fit the data."
   ]
  },
  {
   "cell_type": "code",
   "execution_count": 66,
   "metadata": {},
   "outputs": [],
   "source": [
    "def two_gaussians(x, *params):\n",
    "    \n",
    "    # declare variables for each of the gaussian functions.    \n",
    "    A_1, x0_1, sigma_1, A_2, x0_2, sigma_2 = params\n",
    "    \n",
    "    # calculate the independent gaussian lineshapes\n",
    "    gauss1 = A_1**2/(np.sqrt(np.pi)*np.exp((x-x0_1)**2/(2*sigma_1**2)))\n",
    "    gauss2 = A_2**2/(np.sqrt(np.pi)*np.exp((x-x0_2)**2/(2*sigma_2**2)))\n",
    "    \n",
    "    # return their sum    \n",
    "    return gauss1 + gauss2"
   ]
  },
  {
   "cell_type": "markdown",
   "metadata": {},
   "source": [
    "N.B. The * in front of the 'params' in the function above is very important. [Read why in this article](https://medium.com/understand-the-python/understanding-the-asterisk-of-python-8b9daaa4a558)"
   ]
  },
  {
   "cell_type": "markdown",
   "metadata": {},
   "source": [
    "Now we can try and fit both kalpha and kbeta peaks to our copper spectrum (gain = 2) simultaneously ..."
   ]
  },
  {
   "cell_type": "code",
   "execution_count": 65,
   "metadata": {},
   "outputs": [
    {
     "name": "stdout",
     "output_type": "stream",
     "text": [
      "[   27.59277728  1722.8103222     42.92045148    10.9081412   1922.44717941\n",
      "    43.63422099]\n"
     ]
    }
   ],
   "source": [
    "# our 'guess' array is now twice as long because we've\n",
    "# got values for two gaussians in there\n",
    "guess = [1000, 1700, 100, 500, 1900, 100]\n",
    "\n",
    "# fun the curve_fit method again, don't forget to use your new n_gaussians function\n",
    "popt, pcov = optimize.curve_fit(n_gaussians, x1, y1, guess)\n",
    "\n",
    "print(popt)\n",
    "# popt now gives accurate value for kbeta peak"
   ]
  },
  {
   "cell_type": "code",
   "execution_count": 67,
   "metadata": {},
   "outputs": [
    {
     "data": {
      "image/png": "[encoded data removed]",
      "text/plain": [
       "<matplotlib.figure.Figure at 0x7f28af66f518>"
      ]
     },
     "metadata": {},
     "output_type": "display_data"
    }
   ],
   "source": [
    "# Plotting Cu data again with two gaussian fit\n",
    "\n",
    "fig, ax = plt.subplots()\n",
    "ax.scatter(x1, y1, s=1, color='r', label='data')\n",
    "ax.set_xlim(1500, 2250)\n",
    "ax.plot(x1, n_gaussians(x1, *popt), label='fit')\n",
    "ax.set_xlabel('Channel')\n",
    "ax.set_ylabel('Intensity')\n",
    "ax.set_title('Fitting Cu XRF spectrum (gain=2) using two gaussians')\n",
    "\n",
    "ax.legend()\n",
    "plt.show()"
   ]
  },
  {
   "cell_type": "markdown",
   "metadata": {},
   "source": [
    "This looks much better, right? Remember the important parameters that we are interested in (with respect to making a calibration of 'channel' against energy) is the peak location. popt spits out values of 1723 and 1922 (4.sf) for the kalpha and kbeta peaks respecitvely.\n",
    "\n",
    "<b>But error should you associate with these values?</b> Well, it's pretty common to express this error as +/ the full width half maximum, FWHM, value of the gaussian. Did you know you can calculate the FWHM from the curve's standard deviation? Go on, Google it. I dare you."
   ]
  },
  {
   "cell_type": "markdown",
   "metadata": {},
   "source": [
    "## Part 4: Putting it all together\n",
    "\n",
    "OK, we're looking good. Now lets put the above together using a couple of functions that fit all the data in a given sheet"
   ]
  },
  {
   "cell_type": "code",
   "execution_count": 103,
   "metadata": {},
   "outputs": [],
   "source": [
    "def fit_sheet(fname, sheet, guess, check=False, save=False):\n",
    "    \n",
    "    \"\"\"\n",
    "    This function will return a list of peaks fitted from \n",
    "    all spectra in a given sheet in the following format\n",
    "    [\n",
    "      ...\n",
    "      [x0, sigma, gain, material, kalpha/kbeta]\n",
    "      ...\n",
    "    ]\n",
    "    \"\"\"\n",
    "    \n",
    "    df = pd.read_excel(fname, header=None, sheet_name=sheet)\n",
    "    df = df.dropna(axis = 'columns', how='all').dropna(how='all')\n",
    "    \n",
    "    peak_info = []\n",
    "    \n",
    "    for i in range(0, len(df.columns), 2):\n",
    "        gain = df.iloc[4, i+1]\n",
    "        kalpha = df.iloc[1, i+1]\n",
    "        kbeta = df.iloc[2, i+1]\n",
    "        x = np.array(df.iloc[10:, i].fillna(0).tolist())\n",
    "        y = np.array(df.iloc[10:, i+1].fillna(0).tolist())\n",
    "        \n",
    "        fig, ax = plt.subplots()\n",
    "        ax.scatter(x, y, s=1, color='r', label='data')\n",
    "        \n",
    "        peaks = []\n",
    "        \n",
    "        try:        \n",
    "            popt, pcov = optimize.curve_fit(n_gaussians, x, y, guess)\n",
    "            ax.plot(x, n_gaussians(x, *popt), label='fit')\n",
    "            \n",
    "            for i, j in enumerate(range(0, len(popt), 3)):\n",
    "                peaks.append([popt[j+1], np.sqrt(popt[j+2]**2)])\n",
    "              \n",
    "            if peaks[0][0] < peaks[1][0]:\n",
    "                peaks[0] += [kalpha, 'kalpha']\n",
    "                peaks[1] += [kbeta], 'kbeta'\n",
    "            \n",
    "            else:\n",
    "                peaks[0] += [gain, kbeta, sheet, 'kbeta']\n",
    "                peaks[1] += [gain, kalpha, sheet, 'kalpha']\n",
    "                \n",
    "        except:\n",
    "            print(\"Couldn't fit\")\n",
    "        \n",
    "        \n",
    "\n",
    "        ax.set_xlabel('Channel')\n",
    "        ax.set_ylabel('Intensity')\n",
    "        ax.set_title('Fitting {0} XRF spectrum (gain={1})'.format(sheet, gain))\n",
    "        ax.set_xlim(200, 3000)\n",
    "\n",
    "        ax.legend()\n",
    "        \n",
    "        if save:\n",
    "            fig.savefig(\"{0}_gain_{1}.eps\".format(sheet, gain), format='eps')\n",
    "        \n",
    "        if check:\n",
    "            plt.show()\n",
    "        \n",
    "    return peaks\n",
    "        \n",
    "        \n"
   ]
  },
  {
   "cell_type": "code",
   "execution_count": 104,
   "metadata": {},
   "outputs": [],
   "source": [
    "fname = \"xrf_test_data.xlsx\""
   ]
  },
  {
   "cell_type": "code",
   "execution_count": 105,
   "metadata": {},
   "outputs": [],
   "source": [
    "zinc = fit_sheet(fname, 'Zinc', guess = [400, 800, 10, 400, 1000, 100])"
   ]
  },
  {
   "cell_type": "code",
   "execution_count": 106,
   "metadata": {},
   "outputs": [],
   "source": [
    "iron = fit_sheet(fname, 'Iron', guess = [400, 800, 10, 400, 900, 100])"
   ]
  },
  {
   "cell_type": "code",
   "execution_count": 107,
   "metadata": {},
   "outputs": [],
   "source": [
    "nickel = fit_sheet(fname, 'Nickel', guess = [400, 800, 10, 400, 900, 100])"
   ]
  },
  {
   "cell_type": "code",
   "execution_count": 108,
   "metadata": {},
   "outputs": [],
   "source": [
    "copper = fit_sheet(fname, 'Copper', guess = [400, 1500, 20, 200, 1600, 100])"
   ]
  },
  {
   "cell_type": "code",
   "execution_count": 113,
   "metadata": {},
   "outputs": [],
   "source": [
    "silver = fit_sheet(fname, 'Silver', guess = [400, 2300, 20, 200, 2800, 100])"
   ]
  },
  {
   "cell_type": "code",
   "execution_count": 114,
   "metadata": {},
   "outputs": [],
   "source": [
    "summary_table = pd.DataFrame(zinc+iron+nickel+copper+silver)"
   ]
  },
  {
   "cell_type": "code",
   "execution_count": null,
   "metadata": {},
   "outputs": [],
   "source": []
  }
 ],
 "metadata": {
  "kernelspec": {
   "display_name": "Python 3",
   "language": "python",
   "name": "python3"
  },
  "language_info": {
   "codemirror_mode": {
    "name": "ipython",
    "version": 3
   },
   "file_extension": ".py",
   "mimetype": "text/x-python",
   "name": "python",
   "nbconvert_exporter": "python",
   "pygments_lexer": "ipython3",
   "version": "3.5.2"
  }
 },
 "nbformat": 4,
 "nbformat_minor": 2
}
