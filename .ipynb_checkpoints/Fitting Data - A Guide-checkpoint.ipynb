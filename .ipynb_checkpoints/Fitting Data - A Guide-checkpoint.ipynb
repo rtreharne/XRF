{
 "cells": [
  {
   "cell_type": "markdown",
   "metadata": {},
   "source": [
    "# Fitting Data - A Guide\n",
    "\n",
    "In your labs you will be required to fit different models to various kinds of data. The most common model you will use is a straight line, but you could also be required to fit an exponential curve, or a gaussian. \n",
    "\n",
    "Thankfully, Python and the various scientific computing packages offered alongside it (Numpy, Scipy, Pandas, etc) offer a multitude of different ways of fitting curves to data. This workbook will cover some of the recommended methods. \n",
    "\n",
    "## Least Squares\n",
    "\n",
    "A fitting algorithm is designed to minimise the sum total of the square of the difference between your fit line and data values: hence the name \"least squares\". There are numerous algorithms to achieve this: common ones include the Gauss-Newton and Levenberg–Marquardt algorithms. In this module, however, you don't need to know how the algorithms work, just how to use them.\n",
    "\n",
    "First of all, we should generate some fake data for our fitting example."
   ]
  },
  {
   "cell_type": "code",
   "execution_count": 9,
   "metadata": {},
   "outputs": [
    {
     "data": {
      "text/plain": [
       "<ErrorbarContainer object of 3 artists>"
      ]
     },
     "execution_count": 9,
     "metadata": {},
     "output_type": "execute_result"
    },
    {
     "data": {
      "image/png": "[encoded data removed]",
      "text/plain": [
       "<Figure size 432x288 with 1 Axes>"
      ]
     },
     "metadata": {
      "needs_background": "light"
     },
     "output_type": "display_data"
    }
   ],
   "source": [
    "import matplotlib.pyplot as plt\n",
    "from scipy.optimize import least_squares\n",
    "import numpy as np\n",
    "\n",
    "xdata = np.linspace(0, 4, 50)\n",
    "xerror = np.ones_like(xdata)*0.1\n",
    "\n",
    "y = 2.5 * np.exp(-1.3 * xdata) + 0.5\n",
    "y_noise = 0.2 * np.random.normal(size=xdata.size)\n",
    "\n",
    "ydata = y + y_noise\n",
    "yerror = np.ones_like(ydata)*0.1\n",
    "\n",
    "plt.errorbar(xdata, ydata, yerror, xerror, marker='.', linestyle='', label='data')"
   ]
  },
  {
   "cell_type": "markdown",
   "metadata": {},
   "source": [
    "The data generated is that of a basic, single-term, exponential decay. The uncertainty on each data point is given as a constant 0.1. The next step is to try and do a fit to this using the **least_squares()** function. \n",
    "\n",
    "The first thing to do in fitting is define our fit model. This is, of course, an exponential curve with three fit parameters: an amplitude, a decay constant, and a constant addition term at the end. \n",
    "\n",
    "$$ f(x) = a e^{-bx} + c $$\n",
    "\n",
    "We must also define the error function, which is the first (partial) differential of the fit function:\n",
    "\n",
    "$$ f'(x) = -ab e^{-bx} $$\n",
    "\n",
    "Both of these functions are detailed below, along with the **fitError()** function, which utlises the first two functions to calculate the $\\chi^2$ value for the fit (if you haven't already viewed the $\\chi^2$ guide you should do so now)."
   ]
  },
  {
   "cell_type": "code",
   "execution_count": 12,
   "metadata": {},
   "outputs": [],
   "source": [
    "def fitFunc(p, x):\n",
    "    '''\n",
    "    Fit function\n",
    "    '''\n",
    "    f = p[0] * np.exp(-p[1] * x) + p[2]\n",
    "    return f\n",
    "#\n",
    "def fitFuncDiff(p, x):\n",
    "    '''\n",
    "    Differential of fit function\n",
    "    '''\n",
    "    df = -p[0]*p[1] * np.exp(-p[1] * x)\n",
    "    return df\n",
    "#\n",
    "def fitError(p, x, y, xerr, yerr):\n",
    "    '''\n",
    "    Error function for fit\n",
    "    '''\n",
    "    e = (y - fitFunc(p, x))/(np.sqrt(yerr**2 + fitFuncDiff(p, x)**2*xerr**2))\n",
    "    return e"
   ]
  },
  {
   "cell_type": "markdown",
   "metadata": {},
   "source": [
    "The final step is to perform the actual fit. When fitting, to help the algorithm find ideal parameters, you should provide rough initial estimates of the parameters. Usually the fitting algorithm is good at finding the parameters even with terrible initial guesses, but for very complex models with several parameters, good initial guesses are important for the convergence of the fit.\n",
    "\n",
    "Initial guesses for the fit parameters are entered below, $pInit$. You can also set absolute upper and lower bounds of these estimates, $lBounds \\mathrm{&} uBounds$. The initial parameters and data are provided to the **least_squares()** function and the fit is performed. Some checks are then made to make sure the fit was performed as expected, and some information is output to the console. Don't worry if you don't understand most of this: just make sure your fitted parameters look sensible."
   ]
  },
  {
   "cell_type": "code",
   "execution_count": 17,
   "metadata": {},
   "outputs": [
    {
     "name": "stdout",
     "output_type": "stream",
     "text": [
      " \n",
      "Fit quality:\n",
      "chisq per point = \n",
      " [7.541e-01 2.684e-01 7.206e-01 1.011e+00 1.661e+00 1.790e-03 4.845e-04\n",
      " 7.162e-01 5.015e-02 2.848e-01 1.202e-01 1.969e-01 4.305e+00 8.224e+00\n",
      " 8.605e-01 2.370e-04 5.595e+00 8.947e-03 1.391e+00 3.079e+00 1.377e+00\n",
      " 2.278e+00 1.152e+01 2.669e-01 4.158e-01 1.851e+00 7.500e-03 5.360e-01\n",
      " 6.282e+00 1.571e+00 4.160e+00 7.088e-01 4.989e-01 5.551e-01 1.723e+01\n",
      " 1.669e+00 5.693e+00 3.027e-01 1.929e+00 1.576e+00 1.203e+01 1.537e-01\n",
      " 1.189e-01 4.999e+00 1.819e+00 1.390e-01 3.808e-01 1.893e+01 1.419e+00\n",
      " 7.768e+00]\n",
      "chisq = 1.37e+02, chisq/NDF = 2.92e+00.\n",
      " \n",
      "Parameters returned by fit:\n",
      "mu_0fit = 2.47e+00 +- 1.64e-01\n",
      "alpha = 1.35e+00 +- 1.12e-01\n",
      "beta = 5.83e-01 +- 2.81e-02\n",
      " \n"
     ]
    },
    {
     "data": {
      "image/png": "[encoded data removed]",
      "text/plain": [
       "<Figure size 576x432 with 1 Axes>"
      ]
     },
     "metadata": {
      "needs_background": "light"
     },
     "output_type": "display_data"
    }
   ],
   "source": [
    "#\n",
    "xData = xdata\n",
    "xError = xerror\n",
    "#\n",
    "yData = ydata\n",
    "yError = yerror\n",
    "#\n",
    "# Set initial values of fit parameters\n",
    "#          0         1        2         \n",
    "#          A         b         c  \n",
    "pInit =   [1,        1,       -1]\n",
    "lBounds = [-10,      -10,     -10]\n",
    "uBounds = [10,       10,       10]\n",
    "nPoints = len(xData)\n",
    "nPars = 3\n",
    "#\n",
    "# Run fit\n",
    "out = least_squares(fitError, pInit, args = (xData, yData, xError, yError),\n",
    "                    bounds = (lBounds, uBounds))\n",
    "#\n",
    "# Test if fit failed\n",
    "fitOK = out.success\n",
    "if not fitOK:\n",
    "    print(\" \")\n",
    "    print(\"Fit failed\")\n",
    "else:\n",
    "    #\n",
    "    # get output\n",
    "    pFinal = out.x\n",
    "    mu_0fit = pFinal[0]\n",
    "    alpha = pFinal[1]\n",
    "    beta = pFinal[2]\n",
    "    #\n",
    "    #   Calculate chis**2 per point, summed chi**2 and chi**2/NDF\n",
    "    chiarr = fitError(pFinal, xData, yData, xError, yError)**2\n",
    "    chisq = np.sum(chiarr)\n",
    "    NDF = nPoints - nPars\n",
    "    redchisq = chisq/NDF\n",
    "#\n",
    "    np.set_printoptions(precision = 3)\n",
    "    print(\" \")\n",
    "    print(\"Fit quality:\")\n",
    "    print(\"chisq per point = \\n\",chiarr)\n",
    "    print(\"chisq = {:5.2e}, chisq/NDF = {:5.2e}.\".format(chisq, redchisq))\n",
    "    #\n",
    "    # Compute covariance\n",
    "    jMat = out.jac\n",
    "    jMat2 = np.dot(jMat.T, jMat)\n",
    "    detJmat2 = np.linalg.det(jMat2)\n",
    "    #\n",
    "    if detJmat2 < 1E-32:\n",
    "        print(\"Value of determinat detJmat2\",detJmat2)\n",
    "        print(\"Matrix singular, error calculation failed.\")\n",
    "        print(\" \")\n",
    "        print(\"Parameters returned by fit:\")\n",
    "        print(\"mu_0fit = {:5.2e}\".format(mu_0fit))\n",
    "        print(\"alpha = {:5.2e}\".format(alpha))\n",
    "        print(\"beta = {:5.2e}\".format(beta))\n",
    "        print(\" \")\n",
    "        mu_0Err = 0.0\n",
    "        alphaErr = 0.0\n",
    "        betaErr = 0.0\n",
    "    else:\n",
    "        covar = np.linalg.inv(jMat2)\n",
    "        mu_0Err = np.sqrt(covar[0, 0])\n",
    "        alphaErr = np.sqrt(covar[1, 1])\n",
    "        betaErr = np.sqrt(covar[2, 2])\n",
    "        #\n",
    "        print(\" \")\n",
    "        print(\"Parameters returned by fit:\")\n",
    "        print(\"a = {:5.2e} +- {:5.2e}\".format(mu_0fit, mu_0Err))\n",
    "        print(\"b = {:5.2e} +- {:5.2e}\".format(alpha, alphaErr))\n",
    "        print(\"c = {:5.2e} +- {:5.2e}\".format(beta, betaErr))\n",
    "        print(\" \")\n",
    "    #\n",
    "    # Calculate fitted function values\n",
    "    nPlot = 100\n",
    "    xPlot = np.linspace(0.9*np.min(xData), 1.1*np.max(xData), nPlot)\n",
    "    fitData = fitFunc(pFinal, xPlot)\n",
    "    #\n",
    "    \n",
    "    # Make the plot of the data and the fit\n",
    "    fig = plt.figure(figsize = (8, 6))\n",
    "    plt.title('Refractive index as a function of wavelength')\n",
    "    plt.xlabel('Wavelength (m)')\n",
    "    plt.ylabel('Refractive Index')\n",
    "    plt.grid(color = 'g')\n",
    "    plt.errorbar(xdata, ydata, yerror, xerror, marker='.', linestyle='', label='data')\n",
    "    plt.plot(xPlot, fitData, color = 'r')\n",
    "    plt.show()"
   ]
  },
  {
   "cell_type": "markdown",
   "metadata": {},
   "source": [
    "It can be seen that even with the crude initial estimates and the huge boundary conditions, the fit algorithm has converged and produced a sensible looking fit with a good $\\chi^2$ value."
   ]
  },
  {
   "cell_type": "markdown",
   "metadata": {},
   "source": [
    "## Orthogonal Distance Regression (ODR)\n",
    "\n",
    "There exists another function within the *SciPy* package called Orthogonal Distance Regression (ODR). This does the same thing as above, with less lines of code. If you're feeling confident in your coding skills and want to switch up from what you already know, try this function out!"
   ]
  },
  {
   "cell_type": "code",
   "execution_count": 23,
   "metadata": {},
   "outputs": [
    {
     "name": "stdout",
     "output_type": "stream",
     "text": [
      "Beta: [2.432 1.354 0.584]\n",
      "Beta Std Error: [0.272 0.193 0.048]\n",
      "Beta Covariance: [[25.229 12.298  0.98 ]\n",
      " [12.298 12.704  2.281]\n",
      " [ 0.98   2.281  0.784]]\n",
      "Residual Variance: 0.002931506408485961\n",
      "Inverse Condition #: 0.08385141843043017\n",
      "Reason(s) for Halting:\n",
      "  Sum of squares convergence\n"
     ]
    }
   ],
   "source": [
    "import scipy.odr as odr\n",
    "\n",
    "expModel = odr.Model(fitFunc)  # Generate odr model using the above exponential function\n",
    "\n",
    "fitData = odr.Data(xData, yData, xError, yError) # Put data into our ODR Data object for fitting\n",
    "\n",
    "odrObject_1 = odr.ODR(fitData, expModel, beta0=[1.,1.,1.]) # Make ODR fit object with our data and initial estimates (beta0)\n",
    "\n",
    "odrFit_1 = odrObject_1.run() # Perform the fit, odrFit_n will contain all the information about our fit.\n",
    "odrFit_1.pprint() # Print out statistics"
   ]
  },
  {
   "cell_type": "markdown",
   "metadata": {},
   "source": [
    "The use of ODR is very simple: you just need to model your function using **odr.Model()**; pass your data to the model using **odr.Data()**; put both model and data into an ODR object using **odr.ODR()**; then run the fit on your ODR object using the **.run()** method. \n",
    "\n",
    "The resultant fit is displayed in the plot below. The fitted output parameters are stored in the array **beta[]**, and the standard error on these is stored in the array **sd_beta[]**. Accessing these is simple, as detailed below.\n",
    "\n",
    "Finally, you can use the fitted parameters and your data with the **fitError()** function to calculate the $\\chi^2 /\\mathrm{NDF}$ value for the fit."
   ]
  },
  {
   "cell_type": "code",
   "execution_count": 27,
   "metadata": {},
   "outputs": [
    {
     "name": "stdout",
     "output_type": "stream",
     "text": [
      "Fitted parameters a: 2.43, b: 1.35, c: 0.58\n",
      "\n",
      "Parameter stderr: a: 0.27, b: 0.19, c: 0.05\n",
      "\n",
      "ChiSq/NDF: 2.9272\n"
     ]
    },
    {
     "data": {
      "image/png": "[encoded data removed]",
      "text/plain": [
       "<Figure size 576x432 with 1 Axes>"
      ]
     },
     "metadata": {
      "needs_background": "light"
     },
     "output_type": "display_data"
    }
   ],
   "source": [
    "# Plot figure and fit\n",
    "fig = plt.figure(figsize = (8, 6))\n",
    "plt.errorbar(xData, yData, yError, xError, marker='.', linestyle='', label='data')\n",
    "plt.plot(xData, fitFunc(odrFit_1.beta, xData), color = 'r', label='fit')\n",
    "plt.legend(loc = 2)\n",
    "\n",
    "# Output fit parameters\n",
    "print(\"Fitted parameters a: {0:.2f}, b: {1:.2f}, c: {2:.2f}\\n\".format(odrFit_1.beta[0], odrFit_1.beta[1], odrFit_1.beta[2]))\n",
    "print(\"Parameter stderr: a: {0:.2f}, b: {1:.2f}, c: {2:.2f}\\n\".format(odrFit_1.sd_beta[0], odrFit_1.sd_beta[1], odrFit_1.sd_beta[2]))\n",
    "\n",
    "# Calculate chisq/ndf\n",
    "chiarr = fitError(odrFit_1.beta, xData, yData, xError, yError)**2\n",
    "chisqndf = np.sum(chiarr)/( len(xData) - 3) #Number of data - number of parameters\n",
    "\n",
    "print(\"ChiSq/NDF: {0:.4f}\".format(chisqndf))"
   ]
  },
  {
   "cell_type": "markdown",
   "metadata": {},
   "source": [
    "By default, ODR uses numerical differentiation to estimate the error function for the fit model. This is a disadvantage compared to the **least_squares()** method, but should only present an issue for fit models that do not vary smoothly with x. "
   ]
  }
 ],
 "metadata": {
  "kernelspec": {
   "display_name": "Python 3",
   "language": "python",
   "name": "python3"
  },
  "language_info": {
   "codemirror_mode": {
    "name": "ipython",
    "version": 3
   },
   "file_extension": ".py",
   "mimetype": "text/x-python",
   "name": "python",
   "nbconvert_exporter": "python",
   "pygments_lexer": "ipython3",
   "version": "3.5.2"
  }
 },
 "nbformat": 4,
 "nbformat_minor": 2
}
