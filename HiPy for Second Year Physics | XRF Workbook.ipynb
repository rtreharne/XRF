{
 "cells": [
  {
   "cell_type": "code",
   "execution_count": 33,
   "metadata": {},
   "outputs": [],
   "source": [
    "from IPython.display import HTML"
   ]
  },
  {
   "cell_type": "markdown",
   "metadata": {},
   "source": [
    "This Jupyter Notebook is a Resource produced by HiPy for Physics students at the University of Liverpool. </p>\n",
    "<img src=\"https://img.evbuc.com/https%3A%2F%2Fcdn.evbuc.com%2Fimages%2F72840595%2F64322285113%2F1%2Foriginal.20190914-061706?w=800&auto=compress&rect=0%2C0%2C860%2C430&s=9df0b24f82d668962e4f32d511ebb7ee\"\n",
    "style=\"width: 500px\">\n",
    "\n",
    "## Need Python Support? Come and join the Hive.\n",
    "\n",
    "Register for free at the dates below:\n",
    "\n",
    "  + [Wed 25 Sep 2019](https://www.eventbrite.com/e/hipy-tickets-48282771068)\n",
    "  + [Wed 30 Oct 2019](https://www.eventbrite.com/e/hipy-tickets-48282771068)\n",
    "  + [Wed 27 Nov 2019](https://www.eventbrite.com/e/hipy-tickets-48282771068)\n",
    "  + [Wed 29 Jan 2020](https://www.eventbrite.com/e/hipy-tickets-48282771068)\n",
    "  + [Wed 26 Feb 2020](https://www.eventbrite.com/e/hipy-tickets-48282771068)\n",
    "  + [Wed 25 Mar 2020](https://www.eventbrite.com/e/hipy-tickets-48282771068)\n",
    "  "
   ]
  },
  {
   "cell_type": "markdown",
   "metadata": {},
   "source": [
    "# HiPy for Physicists | X-Ray Fluorescence Data Analysis Workshop\n",
    "University of Liverpool 2019/20\n",
    "\n",
    "R. Treharne"
   ]
  },
  {
   "cell_type": "markdown",
   "metadata": {},
   "source": [
    "## Step 1: Reading data from an Excel spreadsheet\n",
    "\n",
    "All the data files you need for this exercise are available, for free and forever, at [github.com/rtreharne/XRF](https://github.com/rtreharne/XRF)\n",
    "\n",
    "I'm going to use the amazing Pandas module to read and handle my Excel data. For a more gentle introduction to Pandas, NumPy and importing files checkout the following [HiPy](http://www.hipy.uk) resources:\n",
    "\n",
    "  + [Importing Data From Files](https://github.com/HiPyLiv/HiPyProject/blob/master/%5BSOURCING%5D%20Importing%20Data%20From%20Files/Importing%20Files%20From%20Files.ipynb)\n",
    "  + [NumPy and Pandas](https://github.com/HiPyLiv/HiPyProject/blob/master/%5BBASICS%5D%20Numpy%20and%20Pandas/Numpy%20and%20Pandas.ipynb)\n",
    "  \n",
    "Make sure your excel file is in the same directory that you're running your notebook from."
   ]
  },
  {
   "cell_type": "code",
   "execution_count": 34,
   "metadata": {},
   "outputs": [
    {
     "data": {
      "text/html": [
       "<iframe width=\"560\" height=\"315\" src=\"https://www.youtube.com/embed/Qs_16PFiTbc\" frameborder=\"0\" allow=\"accelerometer; autoplay; encrypted-media; gyroscope; picture-in-picture\" allowfullscreen></iframe>"
      ],
      "text/plain": [
       "<IPython.core.display.HTML object>"
      ]
     },
     "execution_count": 34,
     "metadata": {},
     "output_type": "execute_result"
    }
   ],
   "source": [
    "# Step 1 video\n",
    "HTML('<iframe width=\"560\" height=\"315\" src=\"https://www.youtube.com/embed/Qs_16PFiTbc\" frameborder=\"0\" allow=\"accelerometer; autoplay; encrypted-media; gyroscope; picture-in-picture\" allowfullscreen></iframe>')"
   ]
  },
  {
   "cell_type": "code",
   "execution_count": 35,
   "metadata": {},
   "outputs": [],
   "source": [
    "# Import the modules you're going to need\n",
    "# Pandas, NumPy and Matplotlib are classics!\n",
    "import pandas as pd\n",
    "import numpy as np\n",
    "import matplotlib.pyplot as plt"
   ]
  },
  {
   "cell_type": "code",
   "execution_count": 36,
   "metadata": {},
   "outputs": [],
   "source": [
    "# Read your excel file. \n",
    "# Pandas, by default, tries to assign the first row \n",
    "# of a file as column names of the data frame. \n",
    "# You don't want this so use 'header=None'\n",
    "# Also by default, Pandas will read the data in the first\n",
    "# sheet of your spreadsheet. Specify the sheet explicitly\n",
    "# using 'sheet_name'\n",
    "\n",
    "df = pd.read_excel(\"xrf_test_data.xlsx\", header=None, sheet_name=\"Copper\")"
   ]
  },
  {
   "cell_type": "code",
   "execution_count": 37,
   "metadata": {},
   "outputs": [],
   "source": [
    "# To view the data in your notebook simply uncomment and run\n",
    "# the line below.\n",
    "\n",
    "#df"
   ]
  },
  {
   "cell_type": "code",
   "execution_count": 38,
   "metadata": {},
   "outputs": [],
   "source": [
    "# You can see that the data frame containes two sets of XRF data,\n",
    "# Both for copper but at different Gains.\n",
    "# You want to get the x and y data out for each scan right?\n",
    "# You can use Pandas' '.iloc' method to isolate the data as follows.\n",
    "\n",
    "cu_1 = df.iloc[10:, :2]\n",
    "cu_2 = df.iloc[10:, 3:]\n",
    "\n",
    "# This will create two new subset dataframes f, cu_1 and cu_2,from df\n",
    "# that contain x and y data for each of the scans respectively."
   ]
  },
  {
   "cell_type": "markdown",
   "metadata": {},
   "source": [
    "## Step 2: Plotting\n",
    "\n",
    "There are a zillion ways to generate data plots using Python. I'm going to stick the using the classic Matplotlib module. For more resources on visualisation in Python check out the following HiPy notebooks:\n",
    "\n",
    "  + [A deeper look at Matplotlib](https://github.com/HiPyLiv/HiPyProject/tree/master/%5BVISUALISATION%5D%20A%20Deeper%20Look%20Into%20Matplotlib)\n",
    "  + [Pandas build in Vis](https://github.com/HiPyLiv/HiPyProject/tree/master/%5BVISUALISATION%5D%20Panda's%20Built%20In%20Vis)\n",
    "  + [Statistical plottPng With Seaborn](https://github.com/HiPyLiv/HiPyProject/tree/master/%5BVISUALISATION%5D%20Statistical%20Plotting%20With%20Seaborn)\n",
    "  + [Interactive Plots With Bokeh](https://github.com/HiPyLiv/HiPyProject/tree/master/%5BVISUALISATION%5D%20Interactive%20Plots%20With%20Bokeh)\n",
    "  \n",
    "Also, you can access plenty of documentation and examples for Matplotlib at [matplotlib.org](https://matplotlib.org/)"
   ]
  },
  {
   "cell_type": "code",
   "execution_count": 39,
   "metadata": {},
   "outputs": [
    {
     "data": {
      "text/html": [
       "<iframe width=\"560\" height=\"315\" src=\"https://www.youtube.com/embed/UvCh0_rMF4w\" frameborder=\"0\" allow=\"accelerometer; autoplay; encrypted-media; gyroscope; picture-in-picture\" allowfullscreen></iframe>"
      ],
      "text/plain": [
       "<IPython.core.display.HTML object>"
      ]
     },
     "execution_count": 39,
     "metadata": {},
     "output_type": "execute_result"
    }
   ],
   "source": [
    "# Step 2 video\n",
    "HTML('<iframe width=\"560\" height=\"315\" src=\"https://www.youtube.com/embed/UvCh0_rMF4w\" frameborder=\"0\" allow=\"accelerometer; autoplay; encrypted-media; gyroscope; picture-in-picture\" allowfullscreen></iframe>')"
   ]
  },
  {
   "cell_type": "code",
   "execution_count": 40,
   "metadata": {},
   "outputs": [
    {
     "data": {
      "image/png": "[encoded data removed]",
      "text/plain": [
       "<matplotlib.figure.Figure at 0x7fa8f8e18c50>"
      ]
     },
     "metadata": {},
     "output_type": "display_data"
    }
   ],
   "source": [
    "# First lets's format the x and y column data in\n",
    "# our dataframes into seperate lists. This will \n",
    "# make plotting much easier. The 'tolist()' Pandas \n",
    "# method comes in handy here.\n",
    "\n",
    "# Get the x/y data for Copper, gain=2\n",
    "x1 = np.array(cu_1[0].tolist())\n",
    "y1 = np.array(cu_1[1].tolist())\n",
    "\n",
    "# Get the x/y data for Copper, gain=4\n",
    "x2 = cu_2[3].tolist()\n",
    "y2 = cu_2[4].tolist()\n",
    "\n",
    "# Create a matplotlib figure and axis\n",
    "fig, ax = plt.subplots()\n",
    "\n",
    "# Plot your data to your axis.\n",
    "# Don't forget to label your data.\n",
    "ax.plot(x1, y1, label='Gain = 2')\n",
    "ax.plot(x2, y2, label = 'Gain = 4')\n",
    "\n",
    "# Adjust your x-axis accordingly.\n",
    "ax.set_xlim(500, 2500)\n",
    "\n",
    "# Set your axis labels and figure title.\n",
    "ax.set_xlabel('Channel')\n",
    "ax.set_ylabel('Intensity')\n",
    "ax.set_title('XRF scans for Copper')\n",
    "\n",
    "# Add the legend\n",
    "ax.legend()\n",
    "\n",
    "# If you need to save your plot then uncomment\n",
    "# and use the line below.\n",
    "# fig.savefig(\"Copper.eps\", format=\"eps\")\n",
    "\n",
    "# You must use the line below to display the figure object.\n",
    "plt.show()"
   ]
  },
  {
   "cell_type": "markdown",
   "metadata": {},
   "source": [
    "## Step 3a: Fitting\n",
    "\n",
    "We need to determine the peak locations (with respect to channel).\n",
    "\n",
    "### Why?\n",
    "\n",
    "The large and small peak locations in a given spectra correspond to K_alpha and K_beta lines of the material respectively (which we can lookup). If we can determine the channel locations of peaks for all of the materials in our dataset, compare them to published K values, and generate a plot of Channel vs Energy we can callibrate our spectrometer. Then we can scan any unknown material and calculate K_alpha, K_beta for any 'unknonwn' material in units of energy (keV).\n",
    "\n",
    "### How?\n",
    "\n",
    "We can use a Gaussian curve shape to describe each of the peaks:\n",
    "\n",
    "$$G(A, x_0, \\sigma) = \\frac{A}{\\sqrt\\pi\\exp\\frac{(x-x_0)^2}{2\\sigma^2}}$$\n",
    "\n",
    "Where $A$, $x_0$ and $\\sigma$ are the amplitude, mean and standard deviation of the distribution resptively."
   ]
  },
  {
   "cell_type": "code",
   "execution_count": 41,
   "metadata": {},
   "outputs": [
    {
     "data": {
      "text/html": [
       "<iframe width=\"560\" height=\"315\" src=\"https://www.youtube.com/embed/lSiQ-seTkVU\" frameborder=\"0\" allow=\"accelerometer; autoplay; encrypted-media; gyroscope; picture-in-picture\" allowfullscreen></iframe>"
      ],
      "text/plain": [
       "<IPython.core.display.HTML object>"
      ]
     },
     "execution_count": 41,
     "metadata": {},
     "output_type": "execute_result"
    }
   ],
   "source": [
    "# Step 3 video\n",
    "HTML('<iframe width=\"560\" height=\"315\" src=\"https://www.youtube.com/embed/lSiQ-seTkVU\" frameborder=\"0\" allow=\"accelerometer; autoplay; encrypted-media; gyroscope; picture-in-picture\" allowfullscreen></iframe>')"
   ]
  },
  {
   "cell_type": "code",
   "execution_count": 42,
   "metadata": {},
   "outputs": [],
   "source": [
    "# Lets write a function that returns the Gaussian above\n",
    "\n",
    "def gaussian(x, *params):\n",
    "    \"\"\"\n",
    "    x must be an array\n",
    "    params must be an array of A, x0 and sigma values\n",
    "    returns an array same length as x\n",
    "    \"\"\"\n",
    "    A = params[0]\n",
    "    x0 = params[1]\n",
    "    sigma = params[2]\n",
    "    \n",
    "    return A/(np.sqrt(np.pi)*np.exp((x-x0)**2/(2*sigma**2)))\n",
    "    "
   ]
  },
  {
   "cell_type": "code",
   "execution_count": 43,
   "metadata": {},
   "outputs": [
    {
     "data": {
      "image/png": "[encoded data removed]",
      "text/plain": [
       "<matplotlib.figure.Figure at 0x7fa8f8d3b278>"
      ]
     },
     "metadata": {},
     "output_type": "display_data"
    }
   ],
   "source": [
    "# Test out the function above by giving it an array of x values\n",
    "x = np.linspace(500, 2500, 200)\n",
    "y = gaussian(x, 1000, 1000, 100)\n",
    "\n",
    "# plot x and y\n",
    "# I'm not goint to bother creating matplotlib fig object for this\n",
    "plt.scatter(x, y)\n",
    "plt.show()"
   ]
  },
  {
   "cell_type": "markdown",
   "metadata": {},
   "source": [
    "Let's look at our XRF scan for copper again (see step 2). For a gain = 2 let's see if we can fit the kalpha peak with a single gaussian.\n",
    "\n",
    "Read the documentation on the scipy.optimize.curve_fit [here](https://docs.scipy.org/doc/scipy/reference/generated/scipy.optimize.curve_fit.html)"
   ]
  },
  {
   "cell_type": "code",
   "execution_count": 44,
   "metadata": {},
   "outputs": [
    {
     "data": {
      "text/plain": [
       "array([  758.63811223,  1722.9671822 ,    43.29766248])"
      ]
     },
     "execution_count": 44,
     "metadata": {},
     "output_type": "execute_result"
    }
   ],
   "source": [
    "import warnings; warnings.simplefilter('ignore')\n",
    "\n",
    "# Let's guess the A, x0 and sigma values for this peak. It doesn't matter if we're completely wrong.\n",
    "\n",
    "guess1 = [500, 1700, 50]\n",
    "\n",
    "# I'm going to use the scipy.optimize.curve_fit method of scipy's optimise package.\n",
    "# This method will return two lists:\n",
    "#   + The optimized gaussian parameters for the fit \n",
    "#   + The covariance values of the optimized parameter values (don't worry too much about this)\n",
    "\n",
    "# Don't forget to import the necessay module\n",
    "from scipy import optimize\n",
    "\n",
    "popt, pcov = optimize.curve_fit(gaussian, x1, y1, p0=guess1)\n",
    "\n",
    "# What does popt look like?\n",
    "# Does the value for x0 look about right?\n",
    "popt"
   ]
  },
  {
   "cell_type": "markdown",
   "metadata": {},
   "source": [
    "Let's check how well this fit looks by ploting our data as a scatter plot and our fit as a line on the same axis."
   ]
  },
  {
   "cell_type": "code",
   "execution_count": 45,
   "metadata": {},
   "outputs": [
    {
     "data": {
      "image/png": "[encoded data removed]",
      "text/plain": [
       "<matplotlib.figure.Figure at 0x7fa8f8d2ff60>"
      ]
     },
     "metadata": {},
     "output_type": "display_data"
    }
   ],
   "source": [
    "# create figure and axis\n",
    "fig, ax = plt.subplots()\n",
    "\n",
    "# plot the data as a scatter plot\n",
    "ax.scatter(x1, y1, s=1, label='data', color='r')\n",
    "\n",
    "# Let's zoom in a bit by truncating our x-axis\n",
    "ax.set_xlim(1500, 2250)\n",
    "\n",
    "# Add our fitted gaussian to the plot\n",
    "ax.plot(x1, gaussian(x1, *popt), label='fit')\n",
    "\n",
    "# Don't forget to set your axis labels!!!! I will find you if you don't.\n",
    "\n",
    "ax.set_xlabel('Channel')\n",
    "ax.set_ylabel('Intensity')\n",
    "\n",
    "ax.legend()\n",
    "\n",
    "plt.show()"
   ]
  },
  {
   "cell_type": "markdown",
   "metadata": {},
   "source": [
    "OK, this looks pretty good. I would certainly trust the fitted value of $1720\\pm42$ for $x_0$ of the kalpha peak. But what about the kbeta peak? Can I fit this the same way? Let's try by feeding in a new guess, this time for our kbeta peak."
   ]
  },
  {
   "cell_type": "code",
   "execution_count": 46,
   "metadata": {},
   "outputs": [
    {
     "data": {
      "text/plain": [
       "array([  758.63811223,  1722.9671822 ,    43.29766248])"
      ]
     },
     "execution_count": 46,
     "metadata": {},
     "output_type": "execute_result"
    }
   ],
   "source": [
    "guess2 = [250, 1900, 50]\n",
    "\n",
    "popt, pcov = optimize.curve_fit(gaussian, x1, y1, p0=guess1)\n",
    "\n",
    "# What does popt look like?\n",
    "# Does the value for x0 look about right?\n",
    "popt"
   ]
  },
  {
   "cell_type": "markdown",
   "metadata": {},
   "source": [
    "Uh Oh. It's given us the same fitted values for $A$, $x_0$ and $\\sigma$ as when fitting the kalpha peak. Because the kalpha peak dominates fitting with a single gaussian will always return the popt for the kalpha."
   ]
  },
  {
   "cell_type": "markdown",
   "metadata": {},
   "source": [
    "## Step 3b: Fitting two Gaussians simultaneously\n",
    "\n",
    "Let's extend our original \"gaussian\" function above creating a function that returns distribution of TWO summed gaussian lineshapes. Then, let's feed it some parameter values for A, x0 and sigma for the respective gaussians and use this to fit the data."
   ]
  },
  {
   "cell_type": "code",
   "execution_count": 47,
   "metadata": {},
   "outputs": [],
   "source": [
    "def two_gaussians(x, *params):\n",
    "    \n",
    "    # declare variables for each of the gaussian functions.    \n",
    "    A_1, x0_1, sigma_1, A_2, x0_2, sigma_2 = params\n",
    "    \n",
    "    # calculate the independent gaussian lineshapes\n",
    "    gauss1 = A_1**2/(np.sqrt(np.pi)*np.exp((x-x0_1)**2/(2*sigma_1**2)))\n",
    "    gauss2 = A_2**2/(np.sqrt(np.pi)*np.exp((x-x0_2)**2/(2*sigma_2**2)))\n",
    "    \n",
    "    # return their sum    \n",
    "    return gauss1 + gauss2"
   ]
  },
  {
   "cell_type": "markdown",
   "metadata": {},
   "source": [
    "N.B. The * in front of the 'params' in the function above is very important. [Read why in this article](https://medium.com/understand-the-python/understanding-the-asterisk-of-python-8b9daaa4a558)"
   ]
  },
  {
   "cell_type": "markdown",
   "metadata": {},
   "source": [
    "Now we can try and fit both kalpha and kbeta peaks to our copper spectrum (gain = 2) simultaneously ..."
   ]
  },
  {
   "cell_type": "code",
   "execution_count": 48,
   "metadata": {},
   "outputs": [
    {
     "name": "stdout",
     "output_type": "stream",
     "text": [
      "[   27.59277728  1722.8103222     42.92045148    10.9081412   1922.44717941\n",
      "    43.63422099]\n"
     ]
    }
   ],
   "source": [
    "# our 'guess' array is now twice as long because we've\n",
    "# got values for two gaussians in there\n",
    "guess = [1000, 1700, 100, 500, 1900, 100]\n",
    "\n",
    "# fun the curve_fit method again, don't forget to use your new n_gaussians function\n",
    "popt, pcov = optimize.curve_fit(two_gaussians, x1, y1, guess)\n",
    "\n",
    "print(popt)\n",
    "# popt now gives accurate value for kbeta peak"
   ]
  },
  {
   "cell_type": "code",
   "execution_count": 49,
   "metadata": {},
   "outputs": [
    {
     "data": {
      "image/png": "[encoded data removed]",
      "text/plain": [
       "<matplotlib.figure.Figure at 0x7fa8f8d94978>"
      ]
     },
     "metadata": {},
     "output_type": "display_data"
    }
   ],
   "source": [
    "# Plotting Cu data again with two gaussian fit\n",
    "\n",
    "fig, ax = plt.subplots()\n",
    "ax.scatter(x1, y1, s=1, color='r', label='data')\n",
    "ax.set_xlim(1500, 2250)\n",
    "ax.plot(x1, two_gaussians(x1, *popt), label='fit')\n",
    "ax.set_xlabel('Channel')\n",
    "ax.set_ylabel('Intensity')\n",
    "ax.set_title('Fitting Cu XRF spectrum (gain=2) using two gaussians')\n",
    "\n",
    "ax.legend()\n",
    "plt.show()"
   ]
  },
  {
   "cell_type": "markdown",
   "metadata": {},
   "source": [
    "This looks much better, right? Remember the important parameters that we are interested in (with respect to making a calibration of 'channel' against energy) is the peak location. popt spits out values of 1723 and 1922 (4.sf) for the kalpha and kbeta peaks respecitvely.\n",
    "\n",
    "<b>But error should you associate with these values?</b> Well, it's pretty common to express this error as +/ the full width half maximum, FWHM, value of the gaussian. Did you know you can calculate the FWHM from the curve's standard deviation? Go on, Google it. I dare you."
   ]
  },
  {
   "cell_type": "markdown",
   "metadata": {},
   "source": [
    "## Part 4: Putting it all together and generating a summary table\n",
    "\n",
    "OK, we're looking good. Now lets put the above together using a couple of functions that fit all the data in a given sheet"
   ]
  },
  {
   "cell_type": "code",
   "execution_count": 50,
   "metadata": {},
   "outputs": [],
   "source": [
    "def fit_sheet(fname, sheet, guess, check=False, save=False):\n",
    "    \n",
    "    \"\"\"\n",
    "    This function will return a list of peaks fitted from \n",
    "    all spectra in a given sheet in the following format\n",
    "    [\n",
    "      ...\n",
    "      [x0, sigma, gain, material, kalpha/kbeta]\n",
    "      ...\n",
    "    ]\n",
    "    \"\"\"\n",
    "    # Read the sheet into a dataframe\n",
    "    df = pd.read_excel(fname, header=None, sheet_name=sheet)\n",
    "    \n",
    "    # get rid of all columns and rows in dataframe that are empty or are NaN\n",
    "    df = df.dropna(axis = 'columns', how='all').dropna(how='all')\n",
    "    \n",
    "    # define an empty list (your fitted peak info will go in here)\n",
    "    peak_info = []\n",
    "    \n",
    "    # OK. This is the messy bit\n",
    "    # The following loop exracts the scan parameter info\n",
    "    # as well as getting the x and y data for scans on the same \n",
    "    # material but at various gains\n",
    "    \n",
    "    for i in range(0, len(df.columns), 2):\n",
    "        gain = df.iloc[4, i+1]\n",
    "        kalpha = df.iloc[1, i+1]\n",
    "        kbeta = df.iloc[2, i+1]\n",
    "        x = np.array(df.iloc[10:, i].fillna(0).tolist())\n",
    "        y = np.array(df.iloc[10:, i+1].fillna(0).tolist())\n",
    "        \n",
    "        # create a figure\n",
    "        fig, ax = plt.subplots()\n",
    "        \n",
    "        # plot the data from a single scan\n",
    "        ax.scatter(x, y, s=1, color='r', label='data')\n",
    "        \n",
    "        # instantiate an empty list for the current scan data        \n",
    "        peaks = []\n",
    "        \n",
    "        # see if you can fit the data using the init parameters\n",
    "        try:        \n",
    "            popt, pcov = optimize.curve_fit(two_gaussians, x, y, guess)\n",
    "            \n",
    "            # add your fitted gaussian to the figure\n",
    "            ax.plot(x, two_gaussians(x, *popt), label='fit')\n",
    "            \n",
    "            # Add the optimised peak locations for kalpha and kbeta to your peaks list\n",
    "            for i, j in enumerate(range(0, len(popt), 3)):\n",
    "                peaks.append([popt[j+1], np.sqrt(popt[j+2]**2)])\n",
    "\n",
    "            # Make sure that you correctly identify the peaks as kalpha or kbeta\n",
    "            if peaks[0][0] < peaks[1][0]:\n",
    "                peaks[0] += [kalpha, 'kalpha']\n",
    "                peaks[1] += [kbeta], 'kbeta'\n",
    "\n",
    "            else:\n",
    "                peaks[0] += [gain, kbeta, sheet, 'kbeta']\n",
    "                peaks[1] += [gain, kalpha, sheet, 'kalpha']\n",
    "                \n",
    "        except:\n",
    "            print(\"Couldn't fit\")\n",
    "\n",
    "        # Add peaks info to parent list\n",
    "        peak_info += peaks\n",
    "        \n",
    "        # label figure\n",
    "        ax.set_xlabel('Channel')\n",
    "        ax.set_ylabel('Intensity')\n",
    "        ax.set_title('Fitting {0} XRF spectrum (gain={1})'.format(sheet, gain))\n",
    "        ax.set_xlim(200, 3000)\n",
    "\n",
    "        ax.legend()\n",
    "        \n",
    "        # saving (if save = True)\n",
    "        if save:\n",
    "            fig.savefig(\"{0}_gain_{1}.eps\".format(sheet, gain), format='eps')\n",
    "        \n",
    "        #checking (if check = True)\n",
    "        if check:\n",
    "            plt.show()\n",
    "    \n",
    "    # returns all the peak info from scans at ALL gains\n",
    "    return peak_info  "
   ]
  },
  {
   "cell_type": "markdown",
   "metadata": {},
   "source": [
    "I can now chuck the sheet name and my two gaussian initial parameter guesses into the function above and it will spit out a list of all peak locations, for each gain setting used and correctly label the peaks as the kalpha or kbeta lines."
   ]
  },
  {
   "cell_type": "code",
   "execution_count": 51,
   "metadata": {},
   "outputs": [],
   "source": [
    "fname = \"xrf_test_data.xlsx\""
   ]
  },
  {
   "cell_type": "code",
   "execution_count": 52,
   "metadata": {},
   "outputs": [],
   "source": [
    "zinc = fit_sheet(fname, 'Zinc', guess = [400, 800, 10, 400, 1000, 100])"
   ]
  },
  {
   "cell_type": "code",
   "execution_count": 53,
   "metadata": {},
   "outputs": [],
   "source": [
    "iron = fit_sheet(fname, 'Iron', guess = [400, 800, 10, 400, 900, 100])"
   ]
  },
  {
   "cell_type": "code",
   "execution_count": 54,
   "metadata": {},
   "outputs": [],
   "source": [
    "nickel = fit_sheet(fname, 'Nickel', guess = [400, 800, 10, 400, 900, 100])"
   ]
  },
  {
   "cell_type": "code",
   "execution_count": 55,
   "metadata": {},
   "outputs": [],
   "source": [
    "summary_table = pd.DataFrame(zinc+iron+nickel, columns=['x0', 'sigma', 'gain', 'keV', 'material', 'line'])"
   ]
  },
  {
   "cell_type": "code",
   "execution_count": 56,
   "metadata": {},
   "outputs": [],
   "source": [
    "summary_table['FWHM'] = 2*np.sqrt(2*np.log(2))*summary_table['sigma']"
   ]
  },
  {
   "cell_type": "code",
   "execution_count": 57,
   "metadata": {},
   "outputs": [
    {
     "data": {
      "text/html": [
       "<div>\n",
       "<style scoped>\n",
       "    .dataframe tbody tr th:only-of-type {\n",
       "        vertical-align: middle;\n",
       "    }\n",
       "\n",
       "    .dataframe tbody tr th {\n",
       "        vertical-align: top;\n",
       "    }\n",
       "\n",
       "    .dataframe thead th {\n",
       "        text-align: right;\n",
       "    }\n",
       "</style>\n",
       "<table border=\"1\" class=\"dataframe\">\n",
       "  <thead>\n",
       "    <tr style=\"text-align: right;\">\n",
       "      <th></th>\n",
       "      <th>x0</th>\n",
       "      <th>sigma</th>\n",
       "      <th>gain</th>\n",
       "      <th>keV</th>\n",
       "      <th>material</th>\n",
       "      <th>line</th>\n",
       "      <th>FWHM</th>\n",
       "    </tr>\n",
       "  </thead>\n",
       "  <tbody>\n",
       "    <tr>\n",
       "      <th>0</th>\n",
       "      <td>976.870886</td>\n",
       "      <td>22.059942</td>\n",
       "      <td>2</td>\n",
       "      <td>9.57</td>\n",
       "      <td>Zinc</td>\n",
       "      <td>kbeta</td>\n",
       "      <td>51.947193</td>\n",
       "    </tr>\n",
       "    <tr>\n",
       "      <th>1</th>\n",
       "      <td>867.825450</td>\n",
       "      <td>21.151098</td>\n",
       "      <td>2</td>\n",
       "      <td>8.63</td>\n",
       "      <td>Zinc</td>\n",
       "      <td>kalpha</td>\n",
       "      <td>49.807028</td>\n",
       "    </tr>\n",
       "    <tr>\n",
       "      <th>2</th>\n",
       "      <td>2079.425881</td>\n",
       "      <td>43.721577</td>\n",
       "      <td>4</td>\n",
       "      <td>9.57</td>\n",
       "      <td>Zinc</td>\n",
       "      <td>kbeta</td>\n",
       "      <td>102.956445</td>\n",
       "    </tr>\n",
       "    <tr>\n",
       "      <th>3</th>\n",
       "      <td>1860.867739</td>\n",
       "      <td>43.218235</td>\n",
       "      <td>4</td>\n",
       "      <td>8.63</td>\n",
       "      <td>Zinc</td>\n",
       "      <td>kalpha</td>\n",
       "      <td>101.771167</td>\n",
       "    </tr>\n",
       "    <tr>\n",
       "      <th>4</th>\n",
       "      <td>682.191922</td>\n",
       "      <td>20.798065</td>\n",
       "      <td>2</td>\n",
       "      <td>7.06</td>\n",
       "      <td>Iron</td>\n",
       "      <td>kbeta</td>\n",
       "      <td>48.975701</td>\n",
       "    </tr>\n",
       "    <tr>\n",
       "      <th>5</th>\n",
       "      <td>607.381365</td>\n",
       "      <td>21.010754</td>\n",
       "      <td>2</td>\n",
       "      <td>6.40</td>\n",
       "      <td>Iron</td>\n",
       "      <td>kalpha</td>\n",
       "      <td>49.476546</td>\n",
       "    </tr>\n",
       "    <tr>\n",
       "      <th>6</th>\n",
       "      <td>1491.709183</td>\n",
       "      <td>40.886551</td>\n",
       "      <td>4</td>\n",
       "      <td>7.06</td>\n",
       "      <td>Iron</td>\n",
       "      <td>kbeta</td>\n",
       "      <td>96.280470</td>\n",
       "    </tr>\n",
       "    <tr>\n",
       "      <th>7</th>\n",
       "      <td>1338.956819</td>\n",
       "      <td>41.918679</td>\n",
       "      <td>4</td>\n",
       "      <td>6.40</td>\n",
       "      <td>Iron</td>\n",
       "      <td>kalpha</td>\n",
       "      <td>98.710945</td>\n",
       "    </tr>\n",
       "    <tr>\n",
       "      <th>8</th>\n",
       "      <td>823.258975</td>\n",
       "      <td>21.174562</td>\n",
       "      <td>2</td>\n",
       "      <td>8.26</td>\n",
       "      <td>Nickel</td>\n",
       "      <td>kbeta</td>\n",
       "      <td>49.862283</td>\n",
       "    </tr>\n",
       "    <tr>\n",
       "      <th>9</th>\n",
       "      <td>732.260119</td>\n",
       "      <td>21.351031</td>\n",
       "      <td>2</td>\n",
       "      <td>7.47</td>\n",
       "      <td>Nickel</td>\n",
       "      <td>kalpha</td>\n",
       "      <td>50.277836</td>\n",
       "    </tr>\n",
       "    <tr>\n",
       "      <th>10</th>\n",
       "      <td>1769.931400</td>\n",
       "      <td>42.405557</td>\n",
       "      <td>4</td>\n",
       "      <td>8.26</td>\n",
       "      <td>Nickel</td>\n",
       "      <td>kbeta</td>\n",
       "      <td>99.857456</td>\n",
       "    </tr>\n",
       "    <tr>\n",
       "      <th>11</th>\n",
       "      <td>1587.517982</td>\n",
       "      <td>42.672778</td>\n",
       "      <td>4</td>\n",
       "      <td>7.47</td>\n",
       "      <td>Nickel</td>\n",
       "      <td>kalpha</td>\n",
       "      <td>100.486712</td>\n",
       "    </tr>\n",
       "  </tbody>\n",
       "</table>\n",
       "</div>"
      ],
      "text/plain": [
       "             x0      sigma  gain   keV material    line        FWHM\n",
       "0    976.870886  22.059942     2  9.57     Zinc   kbeta   51.947193\n",
       "1    867.825450  21.151098     2  8.63     Zinc  kalpha   49.807028\n",
       "2   2079.425881  43.721577     4  9.57     Zinc   kbeta  102.956445\n",
       "3   1860.867739  43.218235     4  8.63     Zinc  kalpha  101.771167\n",
       "4    682.191922  20.798065     2  7.06     Iron   kbeta   48.975701\n",
       "5    607.381365  21.010754     2  6.40     Iron  kalpha   49.476546\n",
       "6   1491.709183  40.886551     4  7.06     Iron   kbeta   96.280470\n",
       "7   1338.956819  41.918679     4  6.40     Iron  kalpha   98.710945\n",
       "8    823.258975  21.174562     2  8.26   Nickel   kbeta   49.862283\n",
       "9    732.260119  21.351031     2  7.47   Nickel  kalpha   50.277836\n",
       "10  1769.931400  42.405557     4  8.26   Nickel   kbeta   99.857456\n",
       "11  1587.517982  42.672778     4  7.47   Nickel  kalpha  100.486712"
      ]
     },
     "execution_count": 57,
     "metadata": {},
     "output_type": "execute_result"
    }
   ],
   "source": [
    "summary_table"
   ]
  },
  {
   "cell_type": "markdown",
   "metadata": {},
   "source": [
    "Brill. I've summarized all my fits into a single dataframe. Now I can plot channel peak locations against the known energies to create a callibration curve.\n",
    "\n",
    "Oh, BTW. Did you know how easy it was to save a pandas data frame to an excel spreasheet?"
   ]
  },
  {
   "cell_type": "code",
   "execution_count": 58,
   "metadata": {},
   "outputs": [],
   "source": [
    "summary_table.to_excel(\"XRF_summary_table.xlsx\")"
   ]
  },
  {
   "cell_type": "markdown",
   "metadata": {},
   "source": [
    "# Part 5: Creating a callibration curve and fitting your data\n",
    "\n",
    "Here are some links to additional jupyter notebooks on fiting data and using $\\chi^2$ which you will find useful.\n",
    "\n",
    "+ [The Chi Squared Statistic - What is it? Why is it relevant? How do I use it in my work?](https://nbviewer.jupyter.org/github/rtreharne/XRF/blob/master/Chi%20Square%20Guide.ipynb)\n",
    "+ [Fitting Data - A Guide](https://nbviewer.jupyter.org/github/rtreharne/XRF/blob/master/Fitting%20Data%20-%20A%20Guide.ipynb)\n"
   ]
  },
  {
   "cell_type": "code",
   "execution_count": 59,
   "metadata": {},
   "outputs": [],
   "source": [
    "# Let's look at the gain=2 data in the summary table above\n",
    "gain_2 = summary_table[summary_table['gain']==2]\n",
    "\n",
    "gain_4 = summary_table[summary_table['gain']==4]"
   ]
  },
  {
   "cell_type": "markdown",
   "metadata": {},
   "source": [
    "We want to plot channel number of each peak (x) against the energy (in keV) ..."
   ]
  },
  {
   "cell_type": "code",
   "execution_count": 65,
   "metadata": {},
   "outputs": [
    {
     "data": {
      "image/png": "[encoded data removed]",
      "text/plain": [
       "<matplotlib.figure.Figure at 0x7fa900bd9320>"
      ]
     },
     "metadata": {},
     "output_type": "display_data"
    }
   ],
   "source": [
    "# get your x list\n",
    "x2 = gain_2['x0']\n",
    "x4 = gain_4['x0']\n",
    "\n",
    "\n",
    "# use FWHM values as your xerror values\n",
    "xerr2 = gain_2['FWHM']\n",
    "xerr4 = gain_4['FWHM']\n",
    "\n",
    "# get your y list\n",
    "y2 = gain_2['keV']\n",
    "y4 = gain_4['keV']\n",
    "\n",
    "# create a figure\n",
    "fig, ax = plt.subplots()\n",
    "\n",
    "# To create a scatterplot with error bars use the 'errorbar' chart type from matplotlib\n",
    "ax.errorbar(x2, y2, xerr=xerr2, label='Gain = 2', fmt='o')\n",
    "ax.errorbar(x4, y4, xerr=xerr4, label='Gain = 4', fmt='o')\n",
    "\n",
    "ax.set_xlabel(\"Channel number\")\n",
    "ax.set_ylabel(\"Energy (keV)\")\n",
    "ax.set_title(\"XRF Callibration Curves\")\n",
    "\n",
    "ax.legend()\n",
    "plt.show()"
   ]
  },
  {
   "cell_type": "markdown",
   "metadata": {},
   "source": [
    "Looking good! I see some linear relationships in there - this is what we dream of as scientists right?\n",
    "\n",
    "So if, for each of the gains, there is a linear (i.e. $y=mx+c$) relationship between channel number and energy how do I fit these in Python?\n",
    "\n",
    "Golly gosh. There must be a million ways to do this.\n",
    "\n",
    "I use \"lmfit\" because I'm lazy. You will probably need to install the lmfit package if you wish to run the cells below.\n",
    "\n",
    "Checkout the lmfit documentation at [https://lmfit.github.io/lmfit-py/model.html](https://lmfit.github.io/lmfit-py/model.html)\n",
    "\n",
    "Do refer to the detailed guides in the links above to do this in a much more robust way.\n",
    "\n"
   ]
  },
  {
   "cell_type": "code",
   "execution_count": 61,
   "metadata": {},
   "outputs": [],
   "source": [
    "# Define a function that returns a linear response according to y=mx+c\n",
    "def fitFunc(x, m, c):\n",
    "    y = m*np.array(x) + c\n",
    "    return y"
   ]
  },
  {
   "cell_type": "code",
   "execution_count": 62,
   "metadata": {},
   "outputs": [],
   "source": [
    "# import the Model class from lmfit\n",
    "from lmfit import Model\n",
    "\n",
    "# create the module using your defined linear function\n",
    "linmodel = Model(fitFunc)\n",
    "\n",
    "# fit your linear model to your data sets using guesstimates for m and c\n",
    "result_gain_2 = linmodel.fit(y2, x=x2, m=0.1, c=6)\n",
    "result_gain_4 = linmodel.fit(y4, x=x4, m=0.1, c=6)\n",
    "\n",
    "# Bosh! done. If you want to see the results, i.e. your fitted parameters and your chi squared value,\n",
    "# simply run the cells below"
   ]
  },
  {
   "cell_type": "code",
   "execution_count": 63,
   "metadata": {},
   "outputs": [],
   "source": [
    "# result_gain_2\n",
    "# result_gain_4"
   ]
  },
  {
   "cell_type": "code",
   "execution_count": 64,
   "metadata": {},
   "outputs": [
    {
     "data": {
      "image/png": "[encoded data removed]",
      "text/plain": [
       "<matplotlib.figure.Figure at 0x7fa900ab9a90>"
      ]
     },
     "metadata": {},
     "output_type": "display_data"
    }
   ],
   "source": [
    "# Now let's creat our plots again and add the straight line fits this time\n",
    "\n",
    "# create a figure\n",
    "fig, ax = plt.subplots()\n",
    "\n",
    "# To create a scatterplot with error bars use the 'errorbar' chart type from matplotlib\n",
    "ax.errorbar(x2, y2, xerr=xerr2, label='Gain = 2', fmt='o')\n",
    "ax.errorbar(x4, y4, xerr=xerr4, label='Gain = 4', fmt='o')\n",
    "\n",
    "ax.plot(x2, result_gain_2.best_fit)\n",
    "ax.plot(x4, result_gain_4.best_fit)\n",
    "\n",
    "ax.set_xlabel(\"Channel number\")\n",
    "ax.set_ylabel(\"Energy (keV)\")\n",
    "ax.set_title(\"XRF Callibration Curves\")\n",
    "\n",
    "\n",
    "ax.legend()\n",
    "plt.show()"
   ]
  },
  {
   "cell_type": "markdown",
   "metadata": {},
   "source": [
    "# Challenge!\n",
    "\n",
    "Use your knowledge to fit the peak positions of the \"Unknown 1\" sheet in the \"XRF_test_data.xlsx\""
   ]
  }
 ],
 "metadata": {
  "kernelspec": {
   "display_name": "Python 3",
   "language": "python",
   "name": "python3"
  },
  "language_info": {
   "codemirror_mode": {
    "name": "ipython",
    "version": 3
   },
   "file_extension": ".py",
   "mimetype": "text/x-python",
   "name": "python",
   "nbconvert_exporter": "python",
   "pygments_lexer": "ipython3",
   "version": "3.5.2"
  }
 },
 "nbformat": 4,
 "nbformat_minor": 2
}
