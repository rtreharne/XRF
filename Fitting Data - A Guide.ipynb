{
 "cells": [
  {
   "cell_type": "markdown",
   "metadata": {},
   "source": [
    "# Fitting Data - A Guide\n",
    "\n",
    "In your labs you will be required to fit different models to various kinds of data. The most common model you will use is a straight line, but you could also be required to fit an exponential curve, or a gaussian. \n",
    "\n",
    "Thankfully, Python and the various scientific computing packages offered alongside it (Numpy, Scipy, Pandas, etc) offer a multitude of different ways of fitting curves to data. This workbook will cover some of the recommended methods. \n",
    "\n",
    "## Least Squares\n",
    "\n",
    "A fitting algorithm is designed to minimise the sum total of the square of the difference between your fit line and data values, hence the name \"least squares\". There are numerous algorithms designed to achieve this: common ones include the Gauss-Newton and Levenberg–Marquardt algorithms. In this module, however, you don't need to know how the algorithms work, just how to use them.\n",
    "\n",
    "First of all, we should generate some fake data for our fitting example."
   ]
  },
  {
   "cell_type": "code",
   "execution_count": 8,
   "metadata": {},
   "outputs": [
    {
     "data": {
      "text/plain": [
       "<ErrorbarContainer object of 3 artists>"
      ]
     },
     "execution_count": 8,
     "metadata": {},
     "output_type": "execute_result"
    },
    {
     "data": {
      "image/png": "[encoded data removed]",
      "text/plain": [
       "<Figure size 576x432 with 1 Axes>"
      ]
     },
     "metadata": {
      "needs_background": "light"
     },
     "output_type": "display_data"
    }
   ],
   "source": [
    "import matplotlib.pyplot as plt\n",
    "from scipy.optimize import least_squares\n",
    "import numpy as np\n",
    "\n",
    "# Generate x data and some constant errors\n",
    "xdata = np.linspace(0, 4, 50)\n",
    "xerror = np.ones_like(xdata)*0.1\n",
    "\n",
    "# Generate y data and some constant errors\n",
    "y = 2.5 * np.exp(-1.3 * xdata) + 0.5\n",
    "y_noise = 0.2 * np.random.normal(size=xdata.size)\n",
    "\n",
    "ydata = y + y_noise\n",
    "yerror = np.ones_like(ydata)*0.1\n",
    "\n",
    "# Plot data\n",
    "fig = plt.figure(figsize = (8, 6))\n",
    "plt.errorbar(xdata, ydata, yerror, xerror, marker='.', linestyle='', label='data')\n",
    "plt.show"
   ]
  },
  {
   "cell_type": "markdown",
   "metadata": {},
   "source": [
    "The data generated is that of a basic, single-term, exponential decay. The uncertainty on each data point is given as a constant 0.1. The next step is to try and do a fit to this using the **least_squares()** function. \n",
    "\n",
    "The first thing to do in fitting is define our fit model. This is, of course, an exponential curve with three fit parameters: an amplitude, a decay constant, and a constant addition term at the end. \n",
    "\n",
    "$$ f(x) = a e^{-bx} + c $$\n",
    "\n",
    "We must also define the error function, which is the first (partial) differential of the fit function:\n",
    "\n",
    "$$ f'(x) = -ab e^{-bx} $$\n",
    "\n",
    "Both of these functions are detailed below, along with the **calcChiSq()** function, which utlises the first two functions to calculate the $\\chi^2$ values for the fit (if you haven't already viewed the $\\chi^2$ guide you should do so now)."
   ]
  },
  {
   "cell_type": "code",
   "execution_count": 9,
   "metadata": {},
   "outputs": [],
   "source": [
    "def fitFunc(p, x):\n",
    "    '''\n",
    "    Fit function\n",
    "    '''\n",
    "    f = p[0] * np.exp(-p[1] * x) + p[2]\n",
    "    return f\n",
    "\n",
    "def fitFuncDiff(p, x):\n",
    "    '''\n",
    "    Differential of fit function\n",
    "    '''\n",
    "    df = -p[0]*p[1] * np.exp(-p[1] * x)\n",
    "    return df\n",
    "\n",
    "def calcChiSq(p, x, y, xerr, yerr):\n",
    "    '''\n",
    "    Error function for fit\n",
    "    '''\n",
    "    e = (y - fitFunc(p, x))/(np.sqrt(yerr**2 + fitFuncDiff(p, x)**2*xerr**2))\n",
    "    return e"
   ]
  },
  {
   "cell_type": "markdown",
   "metadata": {},
   "source": [
    "The standard error on the fit parameters is non-trivial to obtain using the **least_squares()** method. The below function does this for you - all it requires as input is the matrix *output.jac* from your best fit. Don't worry about how this works for now."
   ]
  },
  {
   "cell_type": "code",
   "execution_count": 18,
   "metadata": {},
   "outputs": [],
   "source": [
    "def fitStdError(jacMatrix):\n",
    "\n",
    "    # Compute covariance\n",
    "    jMat2 = np.dot(jacMatrix.T, jacMatrix)\n",
    "    detJmat2 = np.linalg.det(jMat2)\n",
    "    \n",
    "    # Prepare output\n",
    "    output = np.zeros(jMat2.shape[0])\n",
    "    if detJmat2 < 1E-32:\n",
    "        print(\"Value of determinat detJmat2\",detJmat2)\n",
    "        print(\"Matrix singular, error calculation failed.\")\n",
    "        return output\n",
    "    else:\n",
    "        covar = np.linalg.inv(jMat2)\n",
    "        for i in range(len(output)):\n",
    "            output[i] = np.sqrt(covar[i, i])\n",
    "            \n",
    "        return output"
   ]
  },
  {
   "cell_type": "markdown",
   "metadata": {},
   "source": [
    "The final step is to perform the actual fit. When fitting, to help the algorithm find ideal parameters, you should provide rough initial estimates of the parameters. Usually the fitting algorithm is good at finding the parameters even with terrible initial guesses, but for very complex models with several parameters, good initial guesses are important for the convergence of the fit.\n",
    "\n",
    "Initial guesses for the fit parameters are entered below, **pInit**. You can also set absolute upper and lower bounds of these estimates, **lBounds** & **uBounds**. The initial parameters and data are provided to the **least_squares()** function and the fit is performed. \n",
    "\n",
    "The code then extracts the fitted parameters **A, b, c** and their uncertainties. These are then printed to the screen. Finally, the $\\chi^2/\\mathrm{NDF}$ is calculated, and the fit is plotted alongside the original data. "
   ]
  },
  {
   "cell_type": "code",
   "execution_count": 27,
   "metadata": {},
   "outputs": [
    {
     "name": "stdout",
     "output_type": "stream",
     "text": [
      "Fitted parameters a: 2.73, b: 1.47, c: 0.56\n",
      "Parameter errors: a: 0.21, b: 0.13, c: 0.03\n",
      "ChiSq = 1.61e+02, ChiSq/NDF =  3.43.\n"
     ]
    },
    {
     "data": {
      "image/png": "[encoded data removed]",
      "text/plain": [
       "<Figure size 576x432 with 1 Axes>"
      ]
     },
     "metadata": {
      "needs_background": "light"
     },
     "output_type": "display_data"
    }
   ],
   "source": [
    "# Set initial values of fit parameters\n",
    "#          0         1        2         \n",
    "#          A         b         c  \n",
    "pInit =   [1,        1,       -1]\n",
    "lBounds = [-10,      -10,     -10]\n",
    "uBounds = [10,       10,       10]\n",
    "nPoints = len(xdata)\n",
    "nPars = 3\n",
    "\n",
    "# Run fit\n",
    "output = least_squares(calcChiSq, pInit, args = (xdata, ydata, xerror, yerror),\n",
    "                    bounds = (lBounds, uBounds))\n",
    "\n",
    "\n",
    "\n",
    "# Get least_squares output, stored in array output.x[]\n",
    "A = output.x[0]\n",
    "b = output.x[1]\n",
    "c = output.x[2]\n",
    "\n",
    "# Get errors from our fits using fitStdError(), defined above\n",
    "pErrors = fitStdError(output.jac)\n",
    "d_A = pErrors[0]\n",
    "d_b = pErrors[1]\n",
    "d_c = pErrors[2]\n",
    "\n",
    "# Output fit parameters\n",
    "print(\"Fitted parameters a: {0:.2f}, b: {1:.2f}, c: {2:.2f}\".format(A, b, c))\n",
    "print(\"Parameter errors: a: {0:.2f}, b: {1:.2f}, c: {2:.2f}\".format(d_A, d_b, d_c))\n",
    "\n",
    "\n",
    "\n",
    "# Calculate chis**2 per point, summed chi**2 and chi**2/NDF\n",
    "chiarr = calcChiSq(output.x, xdata, ydata, xerror, yerror)**2\n",
    "chisq = np.sum(chiarr)\n",
    "NDF = nPoints - nPars\n",
    "chisqndf = chisq/NDF\n",
    "print(\"ChiSq = {:5.2e}, ChiSq/NDF = {:5.2f}.\".format(chisq, chisqndf))\n",
    "\n",
    "# Calculate fitted y-values using our fit parameters and the original fit function\n",
    "xPlot = np.linspace(0.9*np.min(xdata), 1.1*np.max(xdata), 100)\n",
    "fitData = fitFunc(output.x, xPlot)\n",
    "\n",
    "# Make the plot of the data and the fit\n",
    "fig = plt.figure(figsize = (8, 6))\n",
    "plt.title('Refractive index as a function of wavelength')\n",
    "plt.xlabel('Wavelength (m)')\n",
    "plt.ylabel('Refractive Index')\n",
    "plt.grid(color = 'g')\n",
    "plt.errorbar(xdata, ydata, yerror, xerror, marker='.', linestyle='', label='data')\n",
    "plt.plot(xPlot, fitData, color = 'r')\n",
    "plt.show()"
   ]
  },
  {
   "cell_type": "markdown",
   "metadata": {},
   "source": [
    "It can be seen that even with the crude initial estimates and the huge boundary conditions, the fit algorithm has converged and produced a sensible looking fit with a good $\\chi^2$ value."
   ]
  },
  {
   "cell_type": "markdown",
   "metadata": {},
   "source": [
    "## Orthogonal Distance Regression (ODR)\n",
    "\n",
    "There exists another function within the *SciPy* package called Orthogonal Distance Regression (ODR). This does the same thing as above, with less lines of code. If you're feeling confident in your coding skills and want to switch up from what you already know, try this function out!"
   ]
  },
  {
   "cell_type": "code",
   "execution_count": 24,
   "metadata": {},
   "outputs": [
    {
     "name": "stdout",
     "output_type": "stream",
     "text": [
      "Beta: [2.71100983 1.48292713 0.56146549]\n",
      "Beta Std Error: [0.36465967 0.22990316 0.049091  ]\n",
      "Beta Covariance: [[38.76808541 17.9885804   1.39075575]\n",
      " [17.9885804  15.40950858  2.29920692]\n",
      " [ 1.39075575  2.29920692  0.70259119]]\n",
      "Residual Variance: 0.0034300551786049407\n",
      "Inverse Condition #: 0.06887684967199027\n",
      "Reason(s) for Halting:\n",
      "  Sum of squares convergence\n"
     ]
    }
   ],
   "source": [
    "import scipy.odr as odr\n",
    "\n",
    "expModel = odr.Model(fitFunc)  # Generate odr model using the above exponential function\n",
    "\n",
    "fitData = odr.Data(xdata, ydata, xerror, yerror) # Put data into our ODR Data object for fitting\n",
    "\n",
    "odrObject_1 = odr.ODR(fitData, expModel, beta0=[1.,1.,1.]) # Make ODR fit object with our data and initial estimates (beta0)\n",
    "\n",
    "odrFit_1 = odrObject_1.run() # Perform the fit, odrFit_n will contain all the information about our fit.\n",
    "odrFit_1.pprint() # Print out statistics"
   ]
  },
  {
   "cell_type": "markdown",
   "metadata": {},
   "source": [
    "The use of ODR is very simple: you just need to model your function using **odr.Model()**; pass your data to the model using **odr.Data()**; put both model and data into an ODR object using **odr.ODR()**; then run the fit on your ODR object using the **.run()** method. \n",
    "\n",
    "The resultant fit is displayed in the plot below. The fitted output parameters are stored in the array **beta[]**, and the standard error on these is stored in the array **sd_beta[]**. Accessing these is simple, as detailed below.\n",
    "\n",
    "Finally, you can use the fitted parameters and your data with the **fitError()** function to calculate the $\\chi^2 /\\mathrm{NDF}$ value for the fit."
   ]
  },
  {
   "cell_type": "code",
   "execution_count": 31,
   "metadata": {},
   "outputs": [
    {
     "name": "stdout",
     "output_type": "stream",
     "text": [
      "Fitted parameters a: 2.71, b: 1.48, c: 0.56\n",
      "Parameter stderr: a: 0.36, b: 0.23, c: 0.05\n",
      "ChiSq/NDF: 3.4292\n"
     ]
    },
    {
     "data": {
      "image/png": "[encoded data removed]",
      "text/plain": [
       "<Figure size 576x432 with 1 Axes>"
      ]
     },
     "metadata": {
      "needs_background": "light"
     },
     "output_type": "display_data"
    }
   ],
   "source": [
    "# Plot figure and fit\n",
    "fig = plt.figure(figsize = (8, 6))\n",
    "plt.errorbar(xdata, ydata, yerror, xerror, marker='.', linestyle='', label='data')\n",
    "plt.plot(xdata, fitFunc(odrFit_1.beta, xdata), color = 'r', label='fit')\n",
    "plt.legend(loc = 2)\n",
    "\n",
    "# Output fit parameters\n",
    "print(\"Fitted parameters a: {0:.2f}, b: {1:.2f}, c: {2:.2f}\".format(odrFit_1.beta[0], odrFit_1.beta[1], odrFit_1.beta[2]))\n",
    "print(\"Parameter stderr: a: {0:.2f}, b: {1:.2f}, c: {2:.2f}\".format(odrFit_1.sd_beta[0], odrFit_1.sd_beta[1], odrFit_1.sd_beta[2]))\n",
    "\n",
    "# Calculate chisq/ndf\n",
    "chiarr = calcChiSq(odrFit_1.beta, xdata, ydata, xerror, yerror)**2\n",
    "chisqndf = np.sum(chiarr)/( len(xdata) - 3) #Number of data - number of parameters\n",
    "\n",
    "print(\"ChiSq/NDF: {0:.4f}\".format(chisqndf))"
   ]
  },
  {
   "cell_type": "markdown",
   "metadata": {},
   "source": [
    "By default, ODR uses numerical differentiation to estimate the error function for the fit model. This is a disadvantage compared to the **least_squares()** method, but should only present an issue for fit models that do not vary smoothly with x. "
   ]
  }
 ],
 "metadata": {
  "kernelspec": {
   "display_name": "Python 3",
   "language": "python",
   "name": "python3"
  },
  "language_info": {
   "codemirror_mode": {
    "name": "ipython",
    "version": 3
   },
   "file_extension": ".py",
   "mimetype": "text/x-python",
   "name": "python",
   "nbconvert_exporter": "python",
   "pygments_lexer": "ipython3",
   "version": "3.7.1"
  }
 },
 "nbformat": 4,
 "nbformat_minor": 2
}
