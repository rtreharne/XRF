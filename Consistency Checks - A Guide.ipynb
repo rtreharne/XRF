{
 "cells": [
  {
   "cell_type": "markdown",
   "metadata": {},
   "source": [
    "# Consistency Checks - A Guide\n",
    "\n",
    "## Consistency and the Probability of Agreement\n",
    "\n",
    "The result of repeated measurements is a distribution about the mean value. In many cases the distribution peaks at the mean value and is symmetric with respect to it. In the most favourable case the distribution is described by a Gaussian function, and this is the only case we are able to deal with sensibly at this level. A Gaussian distribution is described mathematically by:\n",
    "\n",
    "$$ P(x) = \\frac{1}{\\sigma \\sqrt{2\\pi}} e^{ -\\frac{x^2}{2\\sigma^2} } $$\n",
    "\n",
    "where x is the measured value having standard deviation $\\sigma$. $P(x) dx$ is the probability of a measurement lying between $x$ and $(x + dx)$. The probability of a measurement lying between the values $x_1$ and $x_2$ is then the integral of $P(x)$ between the limits $x_1$ and $x_2$, and this probability is usually evaluated numerically.\n",
    "\n",
    "The probability of a (Gaussian-distributed) measurement lying between $\\pm 1\\sigma$ of the true (mean) value is 0.68. This means, of course, that there is a probability of 0.32 for a measurement to lie outside $\\pm 1\\sigma$ of the true (mean) value. The corresponding probability for a measurement to lie within $\\pm 2\\sigma$ $(\\pm 3\\sigma)$ of the true value is 0.95 (0.997), so that the probability of the value lying outside the limit is 0.05 (0.003).\n",
    "\n",
    "In advanced work it is customary to deal directly with the probability of a measurement being consistent with the true value. For our purposes we use the requirement that a measurement is consistent with a particular value if it lies within $3\\sigma$ of the value. In doing this we are saying that the probability of measuring the value to be more than $3\\sigma$ away from the true value is only 0.003 - and we can live with such a small probability of rejecting a measurement.\n",
    "\n",
    "## Consistency of two measurements\n",
    "\n",
    "Two measurements are consistent if the difference between them is consistent with zero. Using the $3\\sigma$ rule defined above this means that the difference between them must be smaller than three times the error on this difference. \n",
    "\n",
    "Writing the measurements as $(A \\pm a)$ and $(B \\pm b)$, their difference is written: \n",
    "\n",
    "$$ |A – B| \\pm [a^2 + b^2]^{1/2} $$\n",
    "\n",
    "Hence, A and B are consistent with one another if:\n",
    "\n",
    "$$ |A – B| < 3 [a^2 + b^2]^{1/2} $$\n",
    "\n",
    "The same approach could be used to check consistency of your measurements with world average values. All physics parameters were measured in experiments and therefore have corresponding uncertainties. Your uncertainties will be much larger than the ones for world averages but still it is useful to remember that all physics parameters and constants were measured in experiments and have uncertainties.\n",
    "\n",
    "## Putting it into practice\n",
    "\n",
    "A basic function utilising the above theory has been written below. It takes four inputs: two values, and their errors. "
   ]
  },
  {
   "cell_type": "code",
   "execution_count": 1,
   "metadata": {},
   "outputs": [],
   "source": [
    "import numpy as np\n",
    "\n",
    "def consistencyCheck(value1, error1, value2, error2):\n",
    "    difference = np.abs(value1 - value2)\n",
    "    threeSigma = 3 * np.sqrt(error1**2 + error2**2)\n",
    "    \n",
    "    if(difference < threeSigma):\n",
    "        return \"These values are consistent to 3 sigma.\"\n",
    "    else:\n",
    "        return \"These values are not consistent.\""
   ]
  },
  {
   "cell_type": "markdown",
   "metadata": {},
   "source": [
    "Let's test it out. In a lab experiment, you measure the permittivity of free space, $\\epsilon_0$, as: $(8.9\\pm0.4) \\times\n",
    "10^{-12} \\mathrm{m}^{-3} \\mathrm{kg}^{-1} \\mathrm{s}^4 \\mathrm{A}^2$. The accepted value is looked up and found to be $8.8541878128(13) \\times 10^{−12} \\mathrm{m}^{-3} \\mathrm{kg}^{-1} \\mathrm{s}^4 \\mathrm{A}^2$.\n",
    "\n",
    "We can use the consistency checker to see if our measurement is consistent with the accepted value."
   ]
  },
  {
   "cell_type": "code",
   "execution_count": 2,
   "metadata": {},
   "outputs": [
    {
     "data": {
      "text/plain": [
       "'These values are consistent to 3 sigma.'"
      ]
     },
     "execution_count": 2,
     "metadata": {},
     "output_type": "execute_result"
    }
   ],
   "source": [
    "consistencyCheck(8.9, 0.4, 8.8541878128, 0.000000000013)"
   ]
  },
  {
   "cell_type": "markdown",
   "metadata": {},
   "source": [
    "Using the consistency check function, we can see our measurement is indeed consistent. Of course, the precision to which this constant is known trumps the precision we can measure it with in the lab. For ease of calculation in such situations, it is justifiable to put the error on the known value as $0$ if it is negligibly small compared to our error."
   ]
  }
 ],
 "metadata": {
  "kernelspec": {
   "display_name": "Python 3",
   "language": "python",
   "name": "python3"
  },
  "language_info": {
   "codemirror_mode": {
    "name": "ipython",
    "version": 3
   },
   "file_extension": ".py",
   "mimetype": "text/x-python",
   "name": "python",
   "nbconvert_exporter": "python",
   "pygments_lexer": "ipython3",
   "version": "3.7.1"
  }
 },
 "nbformat": 4,
 "nbformat_minor": 2
}
